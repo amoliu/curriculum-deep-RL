{
 "cells": [
  {
   "cell_type": "code",
   "execution_count": 1,
   "metadata": {
    "collapsed": false
   },
   "outputs": [
    {
     "name": "stdout",
     "output_type": "stream",
     "text": [
      "Couldn't import dot_parser, loading of dot files will not be possible.\n"
     ]
    }
   ],
   "source": [
    "%run imports.ipy"
   ]
  },
  {
   "cell_type": "markdown",
   "metadata": {},
   "source": [
    "# Sanity Check - Maze without Walls"
   ]
  },
  {
   "cell_type": "markdown",
   "metadata": {},
   "source": [
    "## Maze"
   ]
  },
  {
   "cell_type": "code",
   "execution_count": 2,
   "metadata": {
    "collapsed": false
   },
   "outputs": [
    {
     "name": "stdout",
     "output_type": "stream",
     "text": [
      "dataset built, len =  [315]\n"
     ]
    }
   ],
   "source": [
    "# maze shape\n",
    "H = W = 8\n",
    "gamma = 0.9\n",
    "\n",
    "# generate task progression.\n",
    "def gen_tasks(worlds, wall_penalty=0., gamma=gamma):\n",
    "    for world in worlds:\n",
    "        grid = Grid(world, action_stoch=0.2)\n",
    "        for num_goals in range(1,2):\n",
    "            goal_pos_index = npr.choice(range(len(grid.free_pos)), num_goals, replace=False)\n",
    "            goal = {grid.free_pos[ind]: 1 for ind in goal_pos_index}\n",
    "            rewards = dict(goal)\n",
    "            demons = {}\n",
    "            yield GridWorldUltimate(grid, goal, demons, rewards, wall_penalty=wall_penalty, gamma=gamma)\n",
    "\n",
    "tasks_ladder = map(gen_tasks, \n",
    "            [[np.zeros((H, W)) for i in range(1, 6)],\n",
    "            ]\n",
    "        )\n",
    "# make dataset for supervised learning.\n",
    "allow_init_pos_in_rewards = False\n",
    "datasets = []\n",
    "for tasks in tasks_ladder:\n",
    "    dataset = []\n",
    "    for task in tasks:\n",
    "        values = solve_task_by_value_iteration(task)\n",
    "        for pos in task.env.free_pos:\n",
    "            if not allow_init_pos_in_rewards and pos in task.rewards:\n",
    "                continue\n",
    "            agent_state = np.zeros_like(task.env.grid)\n",
    "            agent_state[pos] = 1.\n",
    "            dataset.append((task.wrap_state(agent_state), values[pos]))\n",
    "    datasets.append(dataset)\n",
    "        \n",
    "print 'dataset built, len = ', map(len, datasets)"
   ]
  },
  {
   "cell_type": "code",
   "execution_count": 212,
   "metadata": {
    "collapsed": false
   },
   "outputs": [],
   "source": [
    "# transform the dataset into format the neural network can process.\n",
    "(train0, test0) = train_test_split(datasets[0], training_ratio=0.7)\n",
    "\n",
    "def prepare_data_for_fcn(data):\n",
    "    '''\n",
    "    take a list of examples [(x_i,y_i)] and turn into two arrays\n",
    "        x (N x D): the variants.\n",
    "        y (N x T): the co-varaints.\n",
    "    '''\n",
    "    x = np.array(list(zip(*data)[0]))\n",
    "    x = x.reshape(x.shape[0], x.shape[1])\n",
    "    y = np.array(zip(*data)[1]).reshape(-1, 1)\n",
    "    y = np.log(y) / np.log(gamma) # log space.\n",
    "    return (x, y)\n",
    "\n",
    "def vector_to_tensor(x):\n",
    "    new_x = np.zeros((4, H, W))\n",
    "    for j in range(4):\n",
    "        new_x[j, :, :] = x[H * W * j:H * W * (j+1)].reshape(H, W)\n",
    "    return new_x\n",
    "\n",
    "def prepare_data_for_cnn(data):\n",
    "    '''\n",
    "    take a list of examples [(x_i,y_i)] and turn into two arrays\n",
    "        x (N x H x W x #Components): the variants.\n",
    "        y (N x T): the co-varaints.\n",
    "    '''\n",
    "    x = np.array(list(zip(*data)[0]))\n",
    "    new_xs = []\n",
    "    for ni in range(x.shape[0]):\n",
    "        new_x = vector_to_tensor(x[ni, :])\n",
    "        new_xs.append(new_x)\n",
    "    new_xs = np.array(new_xs)\n",
    "    y = np.array(zip(*data)[1]).reshape(-1, 1)\n",
    "    y = np.log(y) / np.log(gamma) # log space.\n",
    "    return (new_xs, y)\n",
    "\n",
    "# def compute_value_by_policy(net, task, num_iter = 1000):\n",
    "#     def eval_value(state):\n",
    "#         state_vec = task.wrap_stateid(state).reshape(1, -1)\n",
    "#         if net.tensor_type == T.matrix:\n",
    "#             return net(state_vec)\n",
    "#         else:\n",
    "#             state_tensor = vector_to_tensor(state_vec)\n",
    "#             return net(state_tensor)\n",
    "            \n",
    "        \n",
    "#     agent = OracleAgent(eval_value, task, strategy={\n",
    "#             'name': 'softmax',\n",
    "#             'temperature': 1.\n",
    "#         })\n",
    "    \n",
    "#     total_rewards = []\n",
    "#     init_state = task.env.curr_state\n",
    "#     for it in range(num_iter):\n",
    "#         curr_state = init_state\n",
    "#         task.env.curr_state = curr_state\n",
    "#         total_reward = 0.\n",
    "#         num_steps = 0.\n",
    "#         while True:\n",
    "#             action = agent.get_action(task.env.state_id[curr_state])\n",
    "#             next_state, reward = task.perform_action(action)\n",
    "#             total_reward += reward * gamma ** num_steps\n",
    "#             if task.is_terminal():\n",
    "#                 break\n",
    "#             if num_steps >= 200:\n",
    "#                 print 'too many steps, forcing agent to quit.'\n",
    "#                 break\n",
    "#             else:\n",
    "#                 num_steps += 1\n",
    "#         total_rewards.append(total_reward)\n",
    "#     return (np.mean(total_rewards), np.std(total_rewards))\n",
    "\n",
    "def eval_value(net, task, state):\n",
    "    pos = task.env.state_pos[state]\n",
    "    if pos in task.rewards:\n",
    "        return np.log(task.rewards[pos]) / np.log(gamma)\n",
    "    state_vec = task.wrap_stateid(state).reshape(1, -1)\n",
    "    if net.tensor_type == T.matrix:\n",
    "        return net(state_vec)\n",
    "    else:\n",
    "        state_tensor = vector_to_tensor(state_vec)\n",
    "        return net(state_tensor)\n",
    "        \n",
    "def eval_all(net, task):\n",
    "    V = np.zeros((H, W))\n",
    "    for h in range(H):\n",
    "        for w in range(W):\n",
    "            V[h, w] = eval_value(net, task, task.env.state_id[(h, w)])\n",
    "    return V\n",
    "            \n",
    "def compute_value_by_policy(net, task):\n",
    "    agent = OracleAgent(lambda state: gamma ** eval_value(net, task, state), task, strategy={ # negative because gamma < 1.\n",
    "            'name': 'eps-greedy',\n",
    "            'temperature': 10.,\n",
    "            'eps': 0.0\n",
    "        })\n",
    "    \n",
    "    agent.learn()\n",
    "    return agent.V\n",
    "    \n",
    "\n",
    "\n",
    "    \n",
    "#def evaluate_net(net, x0_t, y0_t):\n",
    "    \n",
    "    \n",
    "    \n",
    "def run_net(net, prepare_func, num_iter=10000):\n",
    "    (x0, y0) = prepare_func(train0)\n",
    "    (x0_t, y0_t) = prepare_func(test0)\n",
    "    train_errors = []\n",
    "    for it in range(num_iter):\n",
    "        net.train(x0, y0, num_iter=1)\n",
    "        train_errors.append(np.sqrt(net.mse(x0, y0)))\n",
    "    plt.plot(train_errors)\n",
    "    print 'training = ', np.sqrt(net.mse(x0, y0))\n",
    "    print 'mse = ', np.sqrt(net.mse(x0_t, y0_t))\n",
    "    return {\n",
    "        'x0': x0,\n",
    "        'y0': y0,\n",
    "        'x0_t': x0_t,\n",
    "        'y0_t': y0_t\n",
    "    }\n",
    "\n"
   ]
  },
  {
   "cell_type": "markdown",
   "metadata": {},
   "source": [
    "### Method 1. Fully Connected Nets (Baseline)"
   ]
  },
  {
   "cell_type": "code",
   "execution_count": 136,
   "metadata": {
    "collapsed": false,
    "scrolled": false
   },
   "outputs": [
    {
     "name": "stdout",
     "output_type": "stream",
     "text": [
      "training =  0.083073184941\n",
      "mse =  3.12862463187\n"
     ]
    },
    {
     "data": {
      "image/png": "[encoded data removed]",
      "text/plain": [
       "<matplotlib.figure.Figure at 0x1076e7210>"
      ]
     },
     "metadata": {},
     "output_type": "display_data"
    }
   ],
   "source": [
    "fcn = nn.FCN([x0.shape[1], 32, 32, 1], l2_reg=0.0, step_size=1e-3)\n",
    "ret = run_net(fcn, prepare_data_for_fcn)"
   ]
  },
  {
   "cell_type": "code",
   "execution_count": 217,
   "metadata": {
    "collapsed": false
   },
   "outputs": [
    {
     "data": {
      "text/plain": [
       "array([[ 0.73432627,  0.78764371,  0.64861677,  0.56928871,  0.75869194,\n",
       "         1.        ,  0.55313912,  0.57499401],\n",
       "       [ 0.82650828,  0.73088526,  0.9532837 ,  0.82583022,  0.78084654,\n",
       "         0.75213178,  0.48583772,  0.32932431],\n",
       "       [ 0.88862115,  0.76932102,  0.90125413,  0.76132445,  0.6659925 ,\n",
       "         0.67019075,  0.50843917,  0.52920588],\n",
       "       [ 0.64721533,  0.80612622,  0.88035968,  0.73631549,  0.70636796,\n",
       "         0.6092751 ,  0.55750843,  0.49514534],\n",
       "       [ 0.6186785 ,  1.01005232,  0.75703389,  0.65582119,  0.60202559,\n",
       "         0.57930835,  0.50483638,  0.43914652],\n",
       "       [ 0.57417944,  0.66256259,  0.6079045 ,  0.8526713 ,  0.5559216 ,\n",
       "         0.52874047,  0.43548434,  0.41421943],\n",
       "       [ 0.78896265,  0.81275579,  0.6025241 ,  0.86944424,  0.51249743,\n",
       "         0.54216896,  0.45418238,  0.48647993],\n",
       "       [ 0.56321619,  0.60452749,  0.65751565,  0.89856734,  0.4426956 ,\n",
       "         0.51258862,  0.68516556,  0.31110798]])"
      ]
     },
     "execution_count": 217,
     "metadata": {},
     "output_type": "execute_result"
    }
   ],
   "source": [
    "gamma ** eval_all(fcn, task)"
   ]
  },
  {
   "cell_type": "code",
   "execution_count": 216,
   "metadata": {
    "collapsed": false
   },
   "outputs": [
    {
     "data": {
      "text/plain": [
       "array([[ 0.56942219,  0.64720752,  0.7403647 ,  0.84739048,  0.97017917,\n",
       "         1.        ,  0.97047668,  0.85319813],\n",
       "       [ 0.51245361,  0.57955977,  0.65933834,  0.7500985 ,  0.85307867,\n",
       "         0.96451746,  0.85358467,  0.75545863],\n",
       "       [ 0.45346569,  0.51069286,  0.5803642 ,  0.65978944,  0.74964175,\n",
       "         0.83816906,  0.75046857,  0.66837337],\n",
       "       [ 0.40114527,  0.44951339,  0.51053042,  0.58030708,  0.65840985,\n",
       "         0.72907199,  0.65959758,  0.59110294],\n",
       "       [ 0.35476362,  0.395732  ,  0.44910869,  0.51035224,  0.57804104,\n",
       "         0.63471837,  0.57958342,  0.5225731 ],\n",
       "       [ 0.31367034,  0.34844446,  0.39509163,  0.44879062,  0.50731853,\n",
       "         0.55300435,  0.50918114,  0.46182908],\n",
       "       [ 0.27735527,  0.30700409,  0.34773117,  0.3947267 ,  0.44525232,\n",
       "         0.48227352,  0.44738492,  0.40811556],\n",
       "       [ 0.2466945 ,  0.27367076,  0.30907075,  0.34928036,  0.3930808 ,\n",
       "         0.42347824,  0.39541861,  0.36263983]])"
      ]
     },
     "execution_count": 216,
     "metadata": {},
     "output_type": "execute_result"
    }
   ],
   "source": [
    "solve_task_by_value_iteration(task)"
   ]
  },
  {
   "cell_type": "code",
   "execution_count": 215,
   "metadata": {
    "collapsed": false
   },
   "outputs": [
    {
     "name": "stdout",
     "output_type": "stream",
     "text": [
      "[[ 0.00349134  0.00344813  0.00510543  0.04994452  0.89682446  0.\n",
      "   0.94086085  0.28949062]\n",
      " [ 0.00339287  0.00289898  0.00312479  0.00920323  0.09369705  0.92302596\n",
      "   0.78855466  0.27770072]\n",
      " [ 0.00335279  0.00271178  0.00297953  0.00760285  0.10578363  0.74052113\n",
      "   0.61324459  0.18323256]\n",
      " [ 0.00287935  0.00168833  0.00260191  0.00312686  0.00965051  0.04543978\n",
      "   0.06679851  0.06363424]\n",
      " [ 0.00165338  0.00155538  0.00201229  0.00705041  0.00981488  0.03822198\n",
      "   0.03488885  0.03145551]\n",
      " [ 0.00246128  0.00177767  0.00690406  0.00738552  0.00791081  0.03198377\n",
      "   0.02697874  0.00988887]\n",
      " [ 0.00250893  0.00248997  0.00715253  0.00737023  0.00750033  0.02568639\n",
      "   0.00939692  0.00799751]\n",
      " [ 0.00227858  0.0024976   0.00713906  0.00733502  0.00671053  0.00850744\n",
      "   0.00778546  0.00701874]]\n"
     ]
    }
   ],
   "source": [
    "x0 = ret['x0']\n",
    "task = GridWorldUltimate.create_from_state(x0_t[0,:].ravel(), H, W)\n",
    "V = compute_value_by_policy(fcn, task)\n",
    "print np.array(V).reshape(H, W)"
   ]
  },
  {
   "cell_type": "code",
   "execution_count": 198,
   "metadata": {
    "collapsed": false
   },
   "outputs": [
    {
     "ename": "KeyboardInterrupt",
     "evalue": "",
     "output_type": "error",
     "traceback": [
      "\u001b[0;31m---------------------------------------------------------------------------\u001b[0m",
      "\u001b[0;31mKeyboardInterrupt\u001b[0m                         Traceback (most recent call last)",
      "\u001b[0;32m<ipython-input-198-4b4e49838daf>\u001b[0m in \u001b[0;36m<module>\u001b[0;34m()\u001b[0m\n\u001b[1;32m      1\u001b[0m \u001b[0mhcnn\u001b[0m \u001b[0;34m=\u001b[0m \u001b[0mMiniPacmanHCNN\u001b[0m\u001b[0;34m(\u001b[0m\u001b[0mH\u001b[0m\u001b[0;34m,\u001b[0m \u001b[0mW\u001b[0m\u001b[0;34m,\u001b[0m \u001b[0ml2_reg\u001b[0m\u001b[0;34m=\u001b[0m\u001b[0;36m0.0\u001b[0m\u001b[0;34m,\u001b[0m \u001b[0mstep_size\u001b[0m\u001b[0;34m=\u001b[0m\u001b[0;36m1e-3\u001b[0m\u001b[0;34m)\u001b[0m\u001b[0;34m\u001b[0m\u001b[0m\n\u001b[0;32m----> 2\u001b[0;31m \u001b[0mrun_net\u001b[0m\u001b[0;34m(\u001b[0m\u001b[0mhcnn\u001b[0m\u001b[0;34m,\u001b[0m \u001b[0mprepare_data_for_cnn\u001b[0m\u001b[0;34m)\u001b[0m\u001b[0;34m\u001b[0m\u001b[0m\n\u001b[0m\u001b[1;32m      3\u001b[0m \u001b[0mtask\u001b[0m \u001b[0;34m=\u001b[0m \u001b[0mGridWorldUltimate\u001b[0m\u001b[0;34m.\u001b[0m\u001b[0mcreate_from_state\u001b[0m\u001b[0;34m(\u001b[0m\u001b[0mx0\u001b[0m\u001b[0;34m[\u001b[0m\u001b[0;36m1\u001b[0m\u001b[0;34m,\u001b[0m\u001b[0;34m:\u001b[0m\u001b[0;34m]\u001b[0m\u001b[0;34m.\u001b[0m\u001b[0mravel\u001b[0m\u001b[0;34m(\u001b[0m\u001b[0;34m)\u001b[0m\u001b[0;34m,\u001b[0m \u001b[0mH\u001b[0m\u001b[0;34m,\u001b[0m \u001b[0mW\u001b[0m\u001b[0;34m)\u001b[0m\u001b[0;34m\u001b[0m\u001b[0m\n\u001b[1;32m      4\u001b[0m \u001b[0mcompute_value_by_policy\u001b[0m\u001b[0;34m(\u001b[0m\u001b[0mhcnn\u001b[0m\u001b[0;34m,\u001b[0m \u001b[0mtask\u001b[0m\u001b[0;34m,\u001b[0m \u001b[0mnum_iter\u001b[0m \u001b[0;34m=\u001b[0m \u001b[0;36m100\u001b[0m\u001b[0;34m)\u001b[0m\u001b[0;34m\u001b[0m\u001b[0m\n",
      "\u001b[0;32m<ipython-input-192-25c76ca59dab>\u001b[0m in \u001b[0;36mrun_net\u001b[0;34m(net, prepare_func, num_iter)\u001b[0m\n\u001b[1;32m    113\u001b[0m     \u001b[0;32mfor\u001b[0m \u001b[0mit\u001b[0m \u001b[0;32min\u001b[0m \u001b[0mrange\u001b[0m\u001b[0;34m(\u001b[0m\u001b[0mnum_iter\u001b[0m\u001b[0;34m)\u001b[0m\u001b[0;34m:\u001b[0m\u001b[0;34m\u001b[0m\u001b[0m\n\u001b[1;32m    114\u001b[0m         \u001b[0mnet\u001b[0m\u001b[0;34m.\u001b[0m\u001b[0mtrain\u001b[0m\u001b[0;34m(\u001b[0m\u001b[0mx0\u001b[0m\u001b[0;34m,\u001b[0m \u001b[0my0\u001b[0m\u001b[0;34m,\u001b[0m \u001b[0mnum_iter\u001b[0m\u001b[0;34m=\u001b[0m\u001b[0;36m1\u001b[0m\u001b[0;34m)\u001b[0m\u001b[0;34m\u001b[0m\u001b[0m\n\u001b[0;32m--> 115\u001b[0;31m         \u001b[0mtrain_errors\u001b[0m\u001b[0;34m.\u001b[0m\u001b[0mappend\u001b[0m\u001b[0;34m(\u001b[0m\u001b[0mnp\u001b[0m\u001b[0;34m.\u001b[0m\u001b[0msqrt\u001b[0m\u001b[0;34m(\u001b[0m\u001b[0mnet\u001b[0m\u001b[0;34m.\u001b[0m\u001b[0mmse\u001b[0m\u001b[0;34m(\u001b[0m\u001b[0mx0\u001b[0m\u001b[0;34m,\u001b[0m \u001b[0my0\u001b[0m\u001b[0;34m)\u001b[0m\u001b[0;34m)\u001b[0m\u001b[0;34m)\u001b[0m\u001b[0;34m\u001b[0m\u001b[0m\n\u001b[0m\u001b[1;32m    116\u001b[0m     \u001b[0mplt\u001b[0m\u001b[0;34m.\u001b[0m\u001b[0mplot\u001b[0m\u001b[0;34m(\u001b[0m\u001b[0mtrain_errors\u001b[0m\u001b[0;34m)\u001b[0m\u001b[0;34m\u001b[0m\u001b[0m\n\u001b[1;32m    117\u001b[0m     \u001b[0;32mprint\u001b[0m \u001b[0;34m'training = '\u001b[0m\u001b[0;34m,\u001b[0m \u001b[0mnp\u001b[0m\u001b[0;34m.\u001b[0m\u001b[0msqrt\u001b[0m\u001b[0;34m(\u001b[0m\u001b[0mnet\u001b[0m\u001b[0;34m.\u001b[0m\u001b[0mmse\u001b[0m\u001b[0;34m(\u001b[0m\u001b[0mx0\u001b[0m\u001b[0;34m,\u001b[0m \u001b[0my0\u001b[0m\u001b[0;34m)\u001b[0m\u001b[0;34m)\u001b[0m\u001b[0;34m\u001b[0m\u001b[0m\n",
      "\u001b[0;32m/Users/tianlins/Project/curriculum/src/rl/code/nn.pyc\u001b[0m in \u001b[0;36mmse\u001b[0;34m(self, data, targets)\u001b[0m\n\u001b[1;32m     79\u001b[0m \u001b[0;34m\u001b[0m\u001b[0m\n\u001b[1;32m     80\u001b[0m     \u001b[0;32mdef\u001b[0m \u001b[0mmse\u001b[0m\u001b[0;34m(\u001b[0m\u001b[0mself\u001b[0m\u001b[0;34m,\u001b[0m \u001b[0mdata\u001b[0m\u001b[0;34m,\u001b[0m \u001b[0mtargets\u001b[0m\u001b[0;34m)\u001b[0m\u001b[0;34m:\u001b[0m\u001b[0;34m\u001b[0m\u001b[0m\n\u001b[0;32m---> 81\u001b[0;31m         \u001b[0mpreds\u001b[0m \u001b[0;34m=\u001b[0m \u001b[0mself\u001b[0m\u001b[0;34m.\u001b[0m\u001b[0mpredict\u001b[0m\u001b[0;34m(\u001b[0m\u001b[0mdata\u001b[0m\u001b[0;34m)\u001b[0m\u001b[0;34m\u001b[0m\u001b[0m\n\u001b[0m\u001b[1;32m     82\u001b[0m         \u001b[0;32mreturn\u001b[0m \u001b[0mnp\u001b[0m\u001b[0;34m.\u001b[0m\u001b[0msum\u001b[0m\u001b[0;34m(\u001b[0m\u001b[0;34m(\u001b[0m\u001b[0mpreds\u001b[0m \u001b[0;34m-\u001b[0m \u001b[0mtargets\u001b[0m\u001b[0;34m)\u001b[0m \u001b[0;34m**\u001b[0m \u001b[0;36m2\u001b[0m\u001b[0;34m)\u001b[0m \u001b[0;34m/\u001b[0m \u001b[0mpreds\u001b[0m\u001b[0;34m.\u001b[0m\u001b[0mshape\u001b[0m\u001b[0;34m[\u001b[0m\u001b[0;36m0\u001b[0m\u001b[0;34m]\u001b[0m \u001b[0;34m/\u001b[0m \u001b[0mpreds\u001b[0m\u001b[0;34m.\u001b[0m\u001b[0mshape\u001b[0m\u001b[0;34m[\u001b[0m\u001b[0;36m1\u001b[0m\u001b[0;34m]\u001b[0m\u001b[0;34m\u001b[0m\u001b[0m\n\u001b[1;32m     83\u001b[0m \u001b[0;34m\u001b[0m\u001b[0m\n",
      "\u001b[0;32m/Users/tianlins/Project/curriculum/src/rl/code/nn.pyc\u001b[0m in \u001b[0;36mpredict\u001b[0;34m(self, data)\u001b[0m\n\u001b[1;32m     76\u001b[0m         \u001b[0mgive\u001b[0m \u001b[0mpredictions\u001b[0m \u001b[0;32mfor\u001b[0m \u001b[0mgiven\u001b[0m \u001b[0mdata\u001b[0m \u001b[0mmatrix\u001b[0m\u001b[0;34m.\u001b[0m\u001b[0;34m\u001b[0m\u001b[0m\n\u001b[1;32m     77\u001b[0m         '''\n\u001b[0;32m---> 78\u001b[0;31m         \u001b[0;32mreturn\u001b[0m \u001b[0mself\u001b[0m\u001b[0;34m.\u001b[0m\u001b[0mfprop\u001b[0m\u001b[0;34m(\u001b[0m\u001b[0mdata\u001b[0m\u001b[0;34m)\u001b[0m\u001b[0;34m\u001b[0m\u001b[0m\n\u001b[0m\u001b[1;32m     79\u001b[0m \u001b[0;34m\u001b[0m\u001b[0m\n\u001b[1;32m     80\u001b[0m     \u001b[0;32mdef\u001b[0m \u001b[0mmse\u001b[0m\u001b[0;34m(\u001b[0m\u001b[0mself\u001b[0m\u001b[0;34m,\u001b[0m \u001b[0mdata\u001b[0m\u001b[0;34m,\u001b[0m \u001b[0mtargets\u001b[0m\u001b[0;34m)\u001b[0m\u001b[0;34m:\u001b[0m\u001b[0;34m\u001b[0m\u001b[0m\n",
      "\u001b[0;32m/Library/Python/2.7/site-packages/theano/compile/function_module.pyc\u001b[0m in \u001b[0;36m__call__\u001b[0;34m(self, *args, **kwargs)\u001b[0m\n\u001b[1;32m    593\u001b[0m         \u001b[0mt0_fn\u001b[0m \u001b[0;34m=\u001b[0m \u001b[0mtime\u001b[0m\u001b[0;34m.\u001b[0m\u001b[0mtime\u001b[0m\u001b[0;34m(\u001b[0m\u001b[0;34m)\u001b[0m\u001b[0;34m\u001b[0m\u001b[0m\n\u001b[1;32m    594\u001b[0m         \u001b[0;32mtry\u001b[0m\u001b[0;34m:\u001b[0m\u001b[0;34m\u001b[0m\u001b[0m\n\u001b[0;32m--> 595\u001b[0;31m             \u001b[0moutputs\u001b[0m \u001b[0;34m=\u001b[0m \u001b[0mself\u001b[0m\u001b[0;34m.\u001b[0m\u001b[0mfn\u001b[0m\u001b[0;34m(\u001b[0m\u001b[0;34m)\u001b[0m\u001b[0;34m\u001b[0m\u001b[0m\n\u001b[0m\u001b[1;32m    596\u001b[0m         \u001b[0;32mexcept\u001b[0m \u001b[0mException\u001b[0m\u001b[0;34m:\u001b[0m\u001b[0;34m\u001b[0m\u001b[0m\n\u001b[1;32m    597\u001b[0m             \u001b[0;32mif\u001b[0m \u001b[0mhasattr\u001b[0m\u001b[0;34m(\u001b[0m\u001b[0mself\u001b[0m\u001b[0;34m.\u001b[0m\u001b[0mfn\u001b[0m\u001b[0;34m,\u001b[0m \u001b[0;34m'position_of_error'\u001b[0m\u001b[0;34m)\u001b[0m\u001b[0;34m:\u001b[0m\u001b[0;34m\u001b[0m\u001b[0m\n",
      "\u001b[0;31mKeyboardInterrupt\u001b[0m: "
     ]
    }
   ],
   "source": [
    "hcnn = MiniPacmanHCNN(H, W, l2_reg=0.0, step_size=1e-3)\n",
    "run_net(hcnn, prepare_data_for_cnn)\n",
    "task = GridWorldUltimate.create_from_state(x0[1,:].ravel(), H, W)\n",
    "compute_value_by_policy(hcnn, task, num_iter = 100)"
   ]
  },
  {
   "cell_type": "code",
   "execution_count": null,
   "metadata": {
    "collapsed": true
   },
   "outputs": [],
   "source": []
  }
 ],
 "metadata": {
  "kernelspec": {
   "display_name": "Python 2",
   "language": "python",
   "name": "python2"
  },
  "language_info": {
   "codemirror_mode": {
    "name": "ipython",
    "version": 2
   },
   "file_extension": ".py",
   "mimetype": "text/x-python",
   "name": "python",
   "nbconvert_exporter": "python",
   "pygments_lexer": "ipython2",
   "version": "2.7.10"
  }
 },
 "nbformat": 4,
 "nbformat_minor": 0
}
