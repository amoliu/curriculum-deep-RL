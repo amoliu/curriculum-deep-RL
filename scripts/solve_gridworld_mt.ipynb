{
 "cells": [
  {
   "cell_type": "markdown",
   "metadata": {},
   "source": [
    "# Solve Grid World with Multiple Tasks"
   ]
  },
  {
   "cell_type": "code",
   "execution_count": 1,
   "metadata": {
    "collapsed": false
   },
   "outputs": [],
   "source": [
    "%reload_ext autoreload\n",
    "%autoreload 2\n",
    "%matplotlib inline\n",
    "import scriptinit\n",
    "import numpy as np\n",
    "import numpy.linalg as npla\n",
    "import matplotlib\n",
    "import pylab as plt\n",
    "import time\n",
    "from IPython import display\n",
    "from gridworld import Grid, GridWorldMDP, GridWorld\n",
    "from agent import ValueIterationSolver, TDLearner, DQN, RecurrentReinforceAgent"
   ]
  },
  {
   "cell_type": "code",
   "execution_count": 2,
   "metadata": {
    "collapsed": true
   },
   "outputs": [],
   "source": [
    "def solve_by_value_iteration(grid, rewards):\n",
    "    # Solve the grid using value iteration as a sanity check\n",
    "    mdp = GridWorldMDP(grid, rewards, wall_penalty=0., gamma=0.9)\n",
    "    mdp_agent = ValueIterationSolver(mdp, tol=1e-6)\n",
    "    mdp_agent.learn()\n",
    "\n",
    "    # visualize the results\n",
    "    values = np.zeros(world.shape)\n",
    "    for state in xrange(grid.get_num_states()):\n",
    "        values[grid.state_pos[state]] = mdp_agent.V[state]\n",
    "\n",
    "    expected_reward = np.sum(values) / float(world.shape[0] * world.shape[1] - np.sum(world) - len(rewards))\n",
    "\n",
    "    # put the terminal state rewards in for visualization purposes\n",
    "    for pos, r in rewards.items():\n",
    "        values[pos] = r\n",
    "\n",
    "    print values\n",
    "    print 'Expected reward', expected_reward\n",
    "    return values"
   ]
  },
  {
   "cell_type": "markdown",
   "metadata": {},
   "source": [
    "## Solve gridworld using a DQN"
   ]
  },
  {
   "cell_type": "code",
   "execution_count": 3,
   "metadata": {
    "collapsed": true
   },
   "outputs": [],
   "source": [
    "# diagnostic function\n",
    "def compute_value_function(episode, total_reward):\n",
    "    global GT\n",
    "    print 'Episode number: ',  episode\n",
    "    values = np.zeros(world.shape)\n",
    "    for row in xrange(world.shape[0]):\n",
    "        for col in xrange(world.shape[1]):\n",
    "            if world[row, col] == 0:  # agent can occupy this state\n",
    "                agent_state = np.zeros_like(world)\n",
    "                agent_state[row, col] = 1.\n",
    "                state = agent_state.ravel().reshape(-1, 1)\n",
    "\n",
    "                qvals = dqn.fprop(state.T)\n",
    "                values[row, col] = np.max(qvals)\n",
    "\n",
    "    for pos, r in rewards.items():\n",
    "        values[pos] = r\n",
    "\n",
    "    print values, '\\n'\n",
    "    \n",
    "    error = npla.norm(values - GT, 'fro')\n",
    "    return error"
   ]
  },
  {
   "cell_type": "code",
   "execution_count": 1,
   "metadata": {
    "collapsed": true
   },
   "outputs": [],
   "source": [
    "# template for interaction between the agent and the task\n",
    "def grid_experiment(agent, task, num_episodes, diagnostic_callback=None, diagnostic_frequency=100):\n",
    "    episodes = []\n",
    "    errors = []\n",
    "\n",
    "    for episode in xrange(NUM_EPISODES):\n",
    "        total_reward = 0.\n",
    "        while grid_task.is_terminal():\n",
    "            grid_task.reset()\n",
    "\n",
    "        curr_state = grid_task.get_current_state()\n",
    "        num_steps = 0.\n",
    "        while True:\n",
    "            num_steps += 1\n",
    "            if num_steps > 200:\n",
    "                print 'Lying and tell the agent the episode is over!'\n",
    "                agent.end_episode(0)\n",
    "                num_steps = 0.\n",
    "\n",
    "            action = agent.get_action(curr_state)\n",
    "            next_state, reward = grid_task.perform_action(action)\n",
    "            total_reward += reward\n",
    "            if grid_task.is_terminal():\n",
    "                agent.end_episode(reward)\n",
    "                break\n",
    "            else:\n",
    "                agent.learn(next_state, reward)\n",
    "                curr_state = next_state\n",
    "        \n",
    "        if episode % diagnostic_frequency == 0:\n",
    "            if diagnostic_callback is not None:\n",
    "                error = diagnostic_callback(episode, total_reward)\n",
    "                episodes.append(episode)\n",
    "                errors.append(error)\n",
    "                \n",
    "    # plot convergence curve.\n",
    "    if errors:\n",
    "        plt.cla()\n",
    "        plt.plot(episodes, errors)\n",
    "        # display.clear_output(wait=True)\n",
    "#         display.display(plt.gcf())\n",
    "#         plt.close()"
   ]
  },
  {
   "cell_type": "code",
   "execution_count": 18,
   "metadata": {
    "collapsed": false,
    "scrolled": true
   },
   "outputs": [
    {
     "name": "stdout",
     "output_type": "stream",
     "text": [
      "[[ 0.74571474  0.84849719  0.96545788  1.        ]\n",
      " [ 0.65555608  0.          0.75177567 -1.        ]\n",
      " [ 0.57964931  0.57734331  0.65267736  0.49373426]]\n",
      "Expected reward 0.696711756054\n"
     ]
    }
   ],
   "source": [
    "# set up a very simple world with a single wall\n",
    "world = np.zeros((3, 4))\n",
    "world[1, 1] = 1.\n",
    "grid = Grid(world, action_stoch=0.2)\n",
    "# set up rewards.\n",
    "rewards = {(0, 3): 1., (1, 3): -1.}\n",
    "# get ground truth by value iteration method.\n",
    "GT = solve_by_value_iteration(grid, rewards)"
   ]
  },
  {
   "cell_type": "markdown",
   "metadata": {},
   "source": [
    "Since the world has 3 $\\times$ 4 = 12 states, it seems invalid to use no less than 12 hidden hidden dimensions. \n",
    "\n",
    "Here let's try hidden_dim = 6, to force states to share representation."
   ]
  },
  {
   "cell_type": "code",
   "execution_count": 15,
   "metadata": {
    "collapsed": false,
    "scrolled": false
   },
   "outputs": [
    {
     "name": "stdout",
     "output_type": "stream",
     "text": [
      "Compiling fprop\n",
      "Compiling backprop\n",
      "done\n",
      "Episode number:  0\n",
      "[[ 0.32108131  0.63326699  0.19658055  1.        ]\n",
      " [ 1.27946293  0.          0.         -1.        ]\n",
      " [-0.00211963  0.0122945   0.20429677  0.29038599]] \n",
      "\n",
      "Lying and tell the agent the episode is over!\n",
      "Lying and tell the agent the episode is over!\n",
      "Lying and tell the agent the episode is over!\n",
      "Lying and tell the agent the episode is over!\n",
      "Lying and tell the agent the episode is over!\n",
      "Episode number:  1000\n",
      "[[ 0.79739915  0.89134755  0.97693463  1.        ]\n",
      " [ 0.68483237  0.          0.83935829 -1.        ]\n",
      " [ 0.68195288  0.64026948  0.66516908  0.5728561 ]] \n",
      "\n",
      "Episode number:  2000\n",
      "[[ 0.75321016  0.84371578  0.964056    1.        ]\n",
      " [ 0.62378496  0.          0.70818683 -1.        ]\n",
      " [ 0.57704787  0.52325093  0.61751304  0.24281951]] \n",
      "\n",
      "Episode number:  3000\n",
      "[[ 0.6929378   0.81107969  0.93870077  1.        ]\n",
      " [ 0.62402495  0.          0.68754756 -1.        ]\n",
      " [ 0.54271945  0.51892253  0.58306556  0.38504531]] \n",
      "\n",
      "Episode number:  4000\n",
      "[[ 0.72250068  0.83379536  0.95665166  1.        ]\n",
      " [ 0.62953411  0.          0.71423831 -1.        ]\n",
      " [ 0.54572576  0.54959699  0.62696167  0.50112335]] \n",
      "\n",
      "Episode number:  5000\n",
      "[[ 0.75038539  0.84168006  0.9414569   1.        ]\n",
      " [ 0.65130485  0.          0.70303163 -1.        ]\n",
      " [ 0.54825884  0.55277758  0.63395147  0.58011822]] \n",
      "\n",
      "Episode number:  6000\n",
      "[[ 0.72629234  0.82788955  0.97253439  1.        ]\n",
      " [ 0.63641339  0.          0.80284999 -1.        ]\n",
      " [ 0.60000093  0.58213227  0.66109409  0.3630782 ]] \n",
      "\n",
      "Episode number:  7000\n",
      "[[ 0.72679578  0.81847753  0.94817143  1.        ]\n",
      " [ 0.6761587   0.          0.67317635 -1.        ]\n",
      " [ 0.49775237  0.50171543  0.58171481  0.49875167]] \n",
      "\n",
      "Episode number:  8000\n",
      "[[ 0.74597203  0.86744199  0.98775899  1.        ]\n",
      " [ 0.63431346  0.          0.73935448 -1.        ]\n",
      " [ 0.58195246  0.55738087  0.65255323  0.46140106]] \n",
      "\n",
      "Episode number:  9000\n",
      "[[ 0.75617764  0.85785996  0.98120272  1.        ]\n",
      " [ 0.61840982  0.          0.65200713 -1.        ]\n",
      " [ 0.54456227  0.53446834  0.58314785  0.39799418]] \n",
      "\n",
      "Episode number:  10000\n",
      "[[ 0.77790185  0.86710328  0.97958638  1.        ]\n",
      " [ 0.654704    0.          0.8527201  -1.        ]\n",
      " [ 0.62250912  0.61528585  0.73098337  0.54671386]] \n",
      "\n"
     ]
    },
    {
     "data": {
      "image/png": "[encoded data removed]",
      "text/plain": [
       "<matplotlib.figure.Figure at 0x10e349990>"
      ]
     },
     "metadata": {},
     "output_type": "display_data"
    }
   ],
   "source": [
    "# setup task and agent\n",
    "NUM_EPISODES = 10001\n",
    "grid_task = GridWorld(grid, rewards, wall_penalty=0., gamma=0.9, tabular=False)\n",
    "dqn = DQN(grid_task, hidden_dim=6, l2_reg=0.0, lr=0.05, epsilon=0.15)\n",
    "# run the experiment\n",
    "grid_experiment(dqn, grid_task, NUM_EPISODES, diagnostic_callback=compute_value_function, diagnostic_frequency=1000)"
   ]
  },
  {
   "cell_type": "code",
   "execution_count": 16,
   "metadata": {
    "collapsed": false
   },
   "outputs": [
    {
     "name": "stdout",
     "output_type": "stream",
     "text": [
      "Compiling fprop\n",
      "Compiling backprop\n",
      "done\n",
      "Episode number:  0\n",
      "[[ 0.04422166  0.06759449  0.04271118  1.        ]\n",
      " [ 0.35346933  0.          0.01585327 -1.        ]\n",
      " [-0.04113312  0.02177264 -0.00970049  0.04357735]] \n",
      "\n",
      "Episode number:  1000\n",
      "[[ 0.74535285  0.85613054  0.96030422  1.        ]\n",
      " [ 0.63042793  0.          0.77000129 -1.        ]\n",
      " [ 0.60228672  0.5490961   0.66403361  0.58317925]] \n",
      "\n",
      "Episode number:  2000\n",
      "[[ 0.76977854  0.86443865  0.97720011  1.        ]\n",
      " [ 0.66025568  0.          0.80279356 -1.        ]\n",
      " [ 0.59097197  0.619044    0.72092066  0.59659731]] \n",
      "\n",
      "Episode number:  3000\n",
      "[[ 0.79136806  0.88885913  0.98412043  1.        ]\n",
      " [ 0.7218801   0.          0.85484892 -1.        ]\n",
      " [ 0.6410162   0.6066898   0.67573719  0.4819416 ]] \n",
      "\n",
      "Episode number:  4000\n",
      "[[ 0.75342968  0.84230124  0.94764536  1.        ]\n",
      " [ 0.67335062  0.          0.74886135 -1.        ]\n",
      " [ 0.560107    0.54462605  0.60898845  0.42976265]] \n",
      "\n",
      "Episode number:  5000\n",
      "[[ 0.76711738  0.85564664  0.97176166  1.        ]\n",
      " [ 0.67576543  0.          0.68520432 -1.        ]\n",
      " [ 0.59337545  0.54010055  0.59634799  0.4546071 ]] \n",
      "\n",
      "Episode number:  6000\n",
      "[[ 0.71954316  0.83350463  0.94406131  1.        ]\n",
      " [ 0.63856047  0.          0.79607665 -1.        ]\n",
      " [ 0.55854495  0.62493422  0.71113428  0.52033499]] \n",
      "\n",
      "Episode number:  7000\n",
      "[[ 0.7188787   0.84871688  0.97719531  1.        ]\n",
      " [ 0.64862121  0.          0.77692071 -1.        ]\n",
      " [ 0.55290951  0.57064664  0.66303973  0.56282272]] \n",
      "\n",
      "Episode number:  8000\n",
      "[[ 0.7155132   0.82798124  0.92136237  1.        ]\n",
      " [ 0.61828701  0.          0.61660693 -1.        ]\n",
      " [ 0.53250244  0.5013181   0.55373329  0.45211149]] \n",
      "\n",
      "Episode number:  9000\n",
      "[[ 0.76615555  0.85705504  0.97811955  1.        ]\n",
      " [ 0.64433206  0.          0.84652673 -1.        ]\n",
      " [ 0.54503832  0.64216046  0.73747637  0.59893205]] \n",
      "\n",
      "Episode number:  10000\n",
      "[[ 0.73427806  0.82093977  0.97047102  1.        ]\n",
      " [ 0.638427    0.          0.79458454 -1.        ]\n",
      " [ 0.58291429  0.59951231  0.65584259  0.57023909]] \n",
      "\n"
     ]
    },
    {
     "data": {
      "image/png": "[encoded data removed]",
      "text/plain": [
       "<matplotlib.figure.Figure at 0x10e6afb50>"
      ]
     },
     "metadata": {},
     "output_type": "display_data"
    }
   ],
   "source": [
    "# setup task and agent\n",
    "NUM_EPISODES = 10001\n",
    "grid_task = GridWorld(grid, rewards, wall_penalty=0., gamma=0.9, tabular=False)\n",
    "dqn = DQN(grid_task, hidden_dim=6, l2_reg=0.0, lr=0.05, epsilon=0.15)\n",
    "# run the experiment\n",
    "grid_experiment(dqn, grid_task, NUM_EPISODES, diagnostic_callback=compute_value_function, diagnostic_frequency=1000)"
   ]
  },
  {
   "cell_type": "code",
   "execution_count": 17,
   "metadata": {
    "collapsed": false
   },
   "outputs": [
    {
     "name": "stdout",
     "output_type": "stream",
     "text": [
      "Compiling fprop\n",
      "Compiling backprop\n",
      "done\n",
      "Lying and tell the agent the episode is over!\n",
      "Episode number:  0\n",
      "[[ 0.93114103  0.98097556  0.85501088  1.        ]\n",
      " [ 0.85312987  0.          0.85332726 -1.        ]\n",
      " [ 0.78492173  0.89196404  0.97692724  0.85983837]] \n",
      "\n",
      "Episode number:  1000\n",
      "[[ 0.71822213  0.84009577  0.94575488  1.        ]\n",
      " [ 0.58401277  0.          0.5892375  -1.        ]\n",
      " [ 0.49758606  0.46750985  0.41554041  0.10767707]] \n",
      "\n",
      "Episode number:  2000\n",
      "[[ 0.77464015  0.89517941  1.00661687  1.        ]\n",
      " [ 0.67256184  0.          0.86776986 -1.        ]\n",
      " [ 0.61231187  0.65323603  0.71700506  0.65841179]] \n",
      "\n",
      "Episode number:  3000\n",
      "[[ 0.74191255  0.85690647  0.97443996  1.        ]\n",
      " [ 0.64665405  0.          0.70329392 -1.        ]\n",
      " [ 0.56900091  0.52279809  0.67004657  0.64214679]] \n",
      "\n",
      "Episode number:  4000\n",
      "[[ 0.77134564  0.84796781  0.98059677  1.        ]\n",
      " [ 0.69572936  0.          0.89280891 -1.        ]\n",
      " [ 0.60787025  0.54774216  0.74512932  0.44447862]] \n",
      "\n",
      "Episode number:  5000\n",
      "[[ 0.75277509  0.84894409  0.96271557  1.        ]\n",
      " [ 0.65543473  0.          0.84410798 -1.        ]\n",
      " [ 0.59091734  0.66162891  0.73491745  0.66922564]] \n",
      "\n",
      "Episode number:  6000\n",
      "[[ 0.74821819  0.85052894  0.97637437  1.        ]\n",
      " [ 0.67859465  0.          0.79907422 -1.        ]\n",
      " [ 0.59537395  0.62144932  0.69473681  0.59085751]] \n",
      "\n",
      "Episode number:  7000\n",
      "[[ 0.7626777   0.86643762  0.97004776  1.        ]\n",
      " [ 0.68492589  0.          0.87176575 -1.        ]\n",
      " [ 0.61042912  0.53475647  0.76274427  0.66505214]] \n",
      "\n",
      "Episode number:  8000\n",
      "[[ 0.74196179  0.82739313  0.93739915  1.        ]\n",
      " [ 0.6713792   0.          0.720814   -1.        ]\n",
      " [ 0.5896814   0.50319816  0.63802736  0.57563219]] \n",
      "\n",
      "Episode number:  9000\n",
      "[[ 0.70621624  0.80908665  0.93966104  1.        ]\n",
      " [ 0.64170069  0.          0.82985086 -1.        ]\n",
      " [ 0.54998023  0.63891194  0.74415514  0.57538499]] \n",
      "\n",
      "Episode number:  10000\n",
      "[[ 0.77350799  0.86665703  0.96494312  1.        ]\n",
      " [ 0.68321767  0.          0.85407231 -1.        ]\n",
      " [ 0.59194569  0.57640459  0.77257815  0.33187471]] \n",
      "\n"
     ]
    },
    {
     "data": {
      "image/png": "[encoded data removed]",
      "text/plain": [
       "<matplotlib.figure.Figure at 0x10f290a50>"
      ]
     },
     "metadata": {},
     "output_type": "display_data"
    }
   ],
   "source": [
    "# setup task and agent\n",
    "NUM_EPISODES = 10001\n",
    "grid_task = GridWorld(grid, rewards, wall_penalty=0., gamma=0.9, tabular=False)\n",
    "dqn = DQN(grid_task, hidden_dim=128, l2_reg=0.0, lr=0.05, epsilon=0.15)\n",
    "# run the experiment\n",
    "grid_experiment(dqn, grid_task, NUM_EPISODES, diagnostic_callback=compute_value_function, diagnostic_frequency=1000)"
   ]
  },
  {
   "cell_type": "markdown",
   "metadata": {},
   "source": [
    "## Verify the decomposition"
   ]
  },
  {
   "cell_type": "code",
   "execution_count": null,
   "metadata": {
    "collapsed": true
   },
   "outputs": [],
   "source": []
  }
 ],
 "metadata": {
  "kernelspec": {
   "display_name": "Python 2",
   "language": "python",
   "name": "python2"
  },
  "language_info": {
   "codemirror_mode": {
    "name": "ipython",
    "version": 2
   },
   "file_extension": ".py",
   "mimetype": "text/x-python",
   "name": "python",
   "nbconvert_exporter": "python",
   "pygments_lexer": "ipython2",
   "version": "2.7.10"
  }
 },
 "nbformat": 4,
 "nbformat_minor": 0
}
