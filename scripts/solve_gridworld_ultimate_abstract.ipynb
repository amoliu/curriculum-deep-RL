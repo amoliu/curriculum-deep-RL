{
 "cells": [
  {
   "cell_type": "code",
   "execution_count": 2,
   "metadata": {
    "collapsed": true
   },
   "outputs": [],
   "source": [
    "%reload_ext autoreload\n",
    "%autoreload 2\n",
    "%matplotlib inline\n",
    "import scriptinit\n",
    "from scriptutils import *\n",
    "import numpy as np\n",
    "import numpy.linalg as npla\n",
    "import numpy.random as npr\n",
    "import matplotlib\n",
    "import pylab as plt\n",
    "import time\n",
    "import pdb\n",
    "from IPython.display import *\n",
    "from gridworld import Grid, GridWorldMDP, GridWorld, GridWorldUltimate\n",
    "from agent import ValueIterationSolver, TDLearner, DQN, RecurrentReinforceAgent\n",
    "import nn"
   ]
  },
  {
   "cell_type": "code",
   "execution_count": 3,
   "metadata": {
    "collapsed": false
   },
   "outputs": [
    {
     "name": "stdout",
     "output_type": "stream",
     "text": [
      "dataset built, len =  [625]\n"
     ]
    }
   ],
   "source": [
    "# maze shape\n",
    "H = W = 8\n",
    "gamma = 0.9\n",
    "\n",
    "# generate task progression.\n",
    "def gen_tasks(worlds, wall_penalty=0., gamma=gamma):\n",
    "    for world in worlds:\n",
    "        grid = Grid(world, action_stoch=0.2)\n",
    "        for num_goals in range(1,3):\n",
    "            goal_pos_index = npr.choice(range(len(grid.free_pos)), num_goals, replace=False)\n",
    "            goal = {grid.free_pos[ind]: 1 for ind in goal_pos_index}\n",
    "            rewards = dict(goal)\n",
    "            demons = {}\n",
    "            yield GridWorldUltimate(grid, goal, demons, rewards, wall_penalty=wall_penalty, gamma=gamma)\n",
    "\n",
    "tasks_ladder = map(gen_tasks, \n",
    "            [[np.zeros((H, W)) for i in range(1, 6)],\n",
    "            ]\n",
    "        )\n",
    "\n",
    "# make dataset for supervised learning.\n",
    "allow_init_pos_in_rewards = False\n",
    "datasets = []\n",
    "for tasks in tasks_ladder:\n",
    "    dataset = []\n",
    "    for task in tasks:\n",
    "        values = solve_task_by_value_iteration(task)\n",
    "        for pos in task.env.free_pos:\n",
    "            if not allow_init_pos_in_rewards and pos in task.rewards:\n",
    "                continue\n",
    "            agent_state = np.zeros_like(task.env.grid)\n",
    "            agent_state[pos] = 1.\n",
    "            dataset.append((task.wrap_state(agent_state), values[pos]))\n",
    "    datasets.append(dataset)\n",
    "        \n",
    "print 'dataset built, len = ', map(len, datasets)\n",
    "\n"
   ]
  },
  {
   "cell_type": "code",
   "execution_count": 4,
   "metadata": {
    "collapsed": true
   },
   "outputs": [],
   "source": [
    "(train0, test0) = train_test_split(datasets[0], training_ratio=0.7)\n",
    "def prepare_data_for_nn(data):\n",
    "    '''\n",
    "    take a list of examples [(x_i,y_i)] and turn into two arrays\n",
    "        x (N x H x W x #Components): the variants.\n",
    "        y (N x T): the co-varaints.\n",
    "    '''\n",
    "    x = np.array(list(zip(*data)[0]))\n",
    "    new_xs = []\n",
    "    for ni in range(x.shape[0]):\n",
    "        new_x = np.zeros((4, H, W))\n",
    "        for j in range(4):\n",
    "            new_x[j, :, :] = x[ni, H * W * j:H * W * (j+1)].reshape(H, W)\n",
    "        new_xs.append(new_x)\n",
    "    new_xs = np.array(new_xs)\n",
    "    y = np.array(zip(*data)[1]).reshape(-1, 1)\n",
    "    return (new_xs, y)\n",
    "(x0, y0) = prepare_data_for_nn(train0)\n",
    "(x0_t, y0_t) = prepare_data_for_nn(test0)\n",
    "y0 = np.log(y0) / np.log(gamma)\n",
    "y0_t = np.log(y0_t) / np.log(gamma)"
   ]
  },
  {
   "cell_type": "code",
   "execution_count": 6,
   "metadata": {
    "collapsed": false
   },
   "outputs": [],
   "source": [
    "from task.minipacman import MiniPacmanHCNN"
   ]
  },
  {
   "cell_type": "code",
   "execution_count": 15,
   "metadata": {
    "collapsed": false
   },
   "outputs": [
    {
     "name": "stdout",
     "output_type": "stream",
     "text": [
      "Compiling fprop\n",
      "Compiling backprop\n",
      "done\n",
      "training =  2.61030835126\n",
      "mse =  3.25650274912\n"
     ]
    },
    {
     "data": {
      "image/png": "[encoded data removed]",
      "text/plain": [
       "<matplotlib.figure.Figure at 0x107dda410>"
      ]
     },
     "metadata": {},
     "output_type": "display_data"
    }
   ],
   "source": [
    "cnn = MiniPacmanHCNN(H, W, l2_reg=0.0, step_size=1e-3)\n",
    "train_errors = []\n",
    "for it in range(1000):\n",
    "    cnn.train(x0, y0, num_iter=10)\n",
    "    train_errors.append(np.sqrt(cnn.mse(x0, y0)))\n",
    "plt.plot(train_errors)\n",
    "print 'training = ', np.sqrt(cnn.mse(x0, y0))\n",
    "print 'mse = ', np.sqrt(cnn.mse(x0_t, y0_t))"
   ]
  },
  {
   "cell_type": "markdown",
   "metadata": {},
   "source": [
    "##### Note\n",
    "This result is produced using separate network for $b$ and $g$, and combining them through a linear layer."
   ]
  },
  {
   "cell_type": "code",
   "execution_count": 21,
   "metadata": {
    "collapsed": false
   },
   "outputs": [
    {
     "name": "stdout",
     "output_type": "stream",
     "text": [
      "Compiling fprop\n",
      "Compiling backprop\n",
      "done\n",
      "training =  1.98634270502\n",
      "mse =  3.2671007808\n"
     ]
    },
    {
     "data": {
      "image/png": "[encoded data removed]",
      "text/plain": [
       "<matplotlib.figure.Figure at 0x108836250>"
      ]
     },
     "metadata": {},
     "output_type": "display_data"
    }
   ],
   "source": [
    "from task.minipacman import MiniPacmanHCNN2\n",
    "cnn = MiniPacmanHCNN2(H, W, l2_reg=0.0, step_size=1e-3)\n",
    "train_errors = []\n",
    "for it in range(1000):\n",
    "    cnn.train(x0, y0, num_iter=10)\n",
    "    train_errors.append(np.sqrt(cnn.mse(x0, y0)))\n",
    "plt.plot(train_errors)\n",
    "print 'training = ', np.sqrt(cnn.mse(x0, y0))\n",
    "print 'mse = ', np.sqrt(cnn.mse(x0_t, y0_t))"
   ]
  },
  {
   "cell_type": "code",
   "execution_count": 17,
   "metadata": {
    "collapsed": false
   },
   "outputs": [
    {
     "data": {
      "text/plain": [
       "array([[ 0.,  0.,  0.,  1.,  0.,  0.,  0.,  0.],\n",
       "       [ 0.,  0.,  0.,  0.,  0.,  0.,  0.,  0.],\n",
       "       [ 0.,  0.,  0.,  0.,  0.,  0.,  0.,  0.],\n",
       "       [ 1.,  0.,  0.,  0.,  0.,  0.,  0.,  0.],\n",
       "       [ 0.,  0.,  0.,  0.,  0.,  0.,  0.,  0.],\n",
       "       [ 0.,  0.,  0.,  0.,  0.,  0.,  0.,  0.],\n",
       "       [ 0.,  0.,  0.,  0.,  0.,  0.,  0.,  0.],\n",
       "       [ 0.,  0.,  0.,  0.,  0.,  0.,  0.,  0.]])"
      ]
     },
     "execution_count": 17,
     "metadata": {},
     "output_type": "execute_result"
    }
   ],
   "source": [
    "x0[0, 2:3, :, :].reshape(8,8)"
   ]
  },
  {
   "cell_type": "code",
   "execution_count": null,
   "metadata": {
    "collapsed": true
   },
   "outputs": [],
   "source": [
    "cnn."
   ]
  }
 ],
 "metadata": {
  "kernelspec": {
   "display_name": "Python 2",
   "language": "python",
   "name": "python2"
  },
  "language_info": {
   "codemirror_mode": {
    "name": "ipython",
    "version": 2
   },
   "file_extension": ".py",
   "mimetype": "text/x-python",
   "name": "python",
   "nbconvert_exporter": "python",
   "pygments_lexer": "ipython2",
   "version": "2.7.10"
  }
 },
 "nbformat": 4,
 "nbformat_minor": 0
}
