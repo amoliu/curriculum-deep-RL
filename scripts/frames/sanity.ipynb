{
 "cells": [
  {
   "cell_type": "code",
   "execution_count": 1,
   "metadata": {
    "collapsed": false
   },
   "outputs": [],
   "source": [
    "%reload_ext autoreload\n",
    "%autoreload 2\n",
    "%matplotlib inline\n",
    "import sys\n",
    "sys.path.append('..')\n",
    "import scriptinit\n",
    "import numpy as np\n",
    "import numpy.linalg as npla\n",
    "import numpy.random as npr\n",
    "import matplotlib\n",
    "import pylab as plt\n",
    "from IPython.display import *\n",
    "from visual.frames import *"
   ]
  },
  {
   "cell_type": "code",
   "execution_count": 26,
   "metadata": {
    "collapsed": false
   },
   "outputs": [
    {
     "data": {
      "text/html": [
       "\n",
       "        <script>\n",
       "            var kernel = IPython.notebook.kernel;\n",
       "            kernel.execute('from ctypes import cast, py_object');\n",
       "            function callback(msg) {\n",
       "                var ret = msg.content.data['text/plain'];\n",
       "                ret = ret.substring(1, ret.length-1);\n",
       "                $('#frame_4386398096').attr('src', ret);\n",
       "            };\n",
       "        </script>\n",
       "        <div>\n",
       "            <img src='data:image/png;base64,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' id='frame_4386398096'></img>\n",
       "            <input id='btn_prev_4386398096' type='button' value='prev' onclick=\"javascript:\n",
       "                kernel.execute('cast(4386398096, py_object).value.on_btn_prev()');\n",
       "                kernel.execute('cast(4386398096, py_object).value.render()', {iopub: {output: callback}}, {silent: false});\n",
       "                \"></input>\n",
       "            <input type='text' value='shortcut' id='shortcut_4386398096'></input>\n",
       "            <input id='btn_next_4386398096' type='button' value='next' onclick=\"javascript:\n",
       "                kernel.execute('cast(4386398096, py_object).value.on_btn_next()');\n",
       "                kernel.execute('cast(4386398096, py_object).value.render()', {iopub: {output: callback}}, {silent: false});\n",
       "                \"></input>\n",
       "        </div>\n",
       "        <script>\n",
       "        $('#shortcut_4386398096').keydown(function(event) {\n",
       "            if(event.which == 37) { // left arrow\n",
       "                $('#btn_prev_4386398096').click();\n",
       "            }else if(event.which == 39) { // right arrow\n",
       "                $('#btn_next_4386398096').click();\n",
       "            }else{\n",
       "                console.log('cast(4386398096, py_object).value.on_key(' + event.which.toString() + ')');\n",
       "                kernel.execute('cast(4386398096, py_object).value.on_key(' + event.which.toString() + ')');\n",
       "            }\n",
       "            $('#shortcut_4386398096').val('' + event);\n",
       "        });\n",
       "        </script>\n",
       "        "
      ],
      "text/plain": [
       "<IPython.core.display.HTML object>"
      ]
     },
     "execution_count": 26,
     "metadata": {},
     "output_type": "execute_result"
    }
   ],
   "source": [
    "from task.jump import JumpGame, JumpGameFrameSource\n",
    "jump_game = JumpGame()\n",
    "source = JumpGameFrameSource(jump_game)\n",
    "frames = Frames(source)\n",
    "HTML(frames.html())"
   ]
  },
  {
   "cell_type": "code",
   "execution_count": null,
   "metadata": {
    "collapsed": true
   },
   "outputs": [],
   "source": [
    " "
   ]
  }
 ],
 "metadata": {
  "kernelspec": {
   "display_name": "Python 2",
   "language": "python",
   "name": "python2"
  },
  "language_info": {
   "codemirror_mode": {
    "name": "ipython",
    "version": 2
   },
   "file_extension": ".py",
   "mimetype": "text/x-python",
   "name": "python",
   "nbconvert_exporter": "python",
   "pygments_lexer": "ipython2",
   "version": "2.7.10"
  }
 },
 "nbformat": 4,
 "nbformat_minor": 0
}
