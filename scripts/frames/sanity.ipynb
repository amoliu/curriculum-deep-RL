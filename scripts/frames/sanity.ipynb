{
 "cells": [
  {
   "cell_type": "code",
   "execution_count": 1,
   "metadata": {
    "collapsed": false
   },
   "outputs": [],
   "source": [
    "%reload_ext autoreload\n",
    "%autoreload 2\n",
    "%matplotlib inline\n",
    "import sys\n",
    "sys.path.append('..')\n",
    "import scriptinit\n",
    "import numpy as np\n",
    "import numpy.linalg as npla\n",
    "import numpy.random as npr\n",
    "import matplotlib\n",
    "import pylab as plt\n",
    "from IPython.display import *\n",
    "from visual.frames import *"
   ]
  },
  {
   "cell_type": "code",
   "execution_count": 4,
   "metadata": {
    "collapsed": false,
    "scrolled": false
   },
   "outputs": [
    {
     "data": {
      "text/html": [
       "\n",
       "        <script>\n",
       "            var kernel = IPython.notebook.kernel;\n",
       "            kernel.execute('from ctypes import cast, py_object');\n",
       "            function callback(msg) {\n",
       "                var ret = msg.content.data['text/plain'];\n",
       "                ret = ret.substring(1, ret.length-1);\n",
       "                $('#frame_4565039952').attr('src', ret);\n",
       "            };\n",
       "        </script>\n",
       "        <div>\n",
       "            <img src='data:image/png;base64,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' id='frame_4565039952'></img>\n",
       "            <input id='btn_prev_4565039952' type='button' value='prev' onclick=\"javascript:\n",
       "                kernel.execute('cast(4565039952, py_object).value.on_btn_prev()');\n",
       "                kernel.execute('cast(4565039952, py_object).value.render()', {iopub: {output: callback}}, {silent: false});\n",
       "                \"></input>\n",
       "            <input type='text' value='shortcut' id='shortcut_4565039952'></input>\n",
       "            <input id='btn_next_4565039952' type='button' value='next' onclick=\"javascript:\n",
       "                kernel.execute('cast(4565039952, py_object).value.on_btn_next()');\n",
       "                kernel.execute('cast(4565039952, py_object).value.render()', {iopub: {output: callback}}, {silent: false});\n",
       "                \"></input>\n",
       "        </div>\n",
       "        <script>\n",
       "        $('#shortcut_4565039952').keydown(function(event) {\n",
       "            if(event.which == 37) { // left arrow\n",
       "                $('#btn_prev_4565039952').click();\n",
       "            }else if(event.which == 39) { // right arrow\n",
       "                $('#btn_next_4565039952').click();\n",
       "            }else{\n",
       "                console.log('cast(4565039952, py_object).value.on_key(' + event.which.toString() + ')');\n",
       "                kernel.execute('cast(4565039952, py_object).value.on_key(' + event.which.toString() + ')');\n",
       "            }\n",
       "            $('#shortcut_4565039952').val('' + event);\n",
       "        });\n",
       "        </script>\n",
       "        "
      ],
      "text/plain": [
       "<IPython.core.display.HTML object>"
      ]
     },
     "execution_count": 4,
     "metadata": {},
     "output_type": "execute_result"
    }
   ],
   "source": [
    "class FrameSourceRandom(FrameSource):\n",
    "    def __init__(self):\n",
    "        self.frames = []\n",
    "        \n",
    "    def render(self, frame_id):\n",
    "        return self.frames[frame_id]\n",
    "    \n",
    "    def terminated(self):\n",
    "        return len(self.frames) >= 5\n",
    "    \n",
    "    def generate(self, meta):\n",
    "        self.frames.append(npr.rand(20, 20))\n",
    "    \n",
    "    def __len__(self):\n",
    "        return len(self.frames)\n",
    "    \n",
    "    \n",
    "source = FrameSourceRandom()\n",
    "frames = Frames(source)\n",
    "HTML(frames.html())"
   ]
  },
  {
   "cell_type": "code",
   "execution_count": 142,
   "metadata": {
    "collapsed": false
   },
   "outputs": [
    {
     "data": {
      "text/plain": [
       "70"
      ]
     },
     "execution_count": 142,
     "metadata": {},
     "output_type": "execute_result"
    }
   ],
   "source": [
    "frames.keydown"
   ]
  },
  {
   "cell_type": "code",
   "execution_count": 105,
   "metadata": {
    "collapsed": true
   },
   "outputs": [],
   "source": [
    "a = {0.2:1}"
   ]
  },
  {
   "cell_type": "code",
   "execution_count": 106,
   "metadata": {
    "collapsed": false
   },
   "outputs": [
    {
     "data": {
      "text/plain": [
       "1"
      ]
     },
     "execution_count": 106,
     "metadata": {},
     "output_type": "execute_result"
    }
   ],
   "source": [
    "a[0.2]"
   ]
  },
  {
   "cell_type": "code",
   "execution_count": 107,
   "metadata": {
    "collapsed": false
   },
   "outputs": [
    {
     "data": {
      "text/html": [
       "\n",
       "        <script>\n",
       "            var kernel = IPython.notebook.kernel;\n",
       "            function callback(msg) {\n",
       "                var ret = msg.content.data['text/plain'];\n",
       "                ret = ret.substring(1, ret.length-1);\n",
       "                $('#frame_4484333456').attr('src', ret);\n",
       "            };\n",
       "        </script>\n",
       "        <div>\n",
       "            <img src='data:image/png;base64,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' id='frame_4484333456'></img>\n",
       "            <input type='button' value='prev' onclick=\"javascript:\n",
       "                kernel.execute('from ctypes import cast, py_object');\n",
       "                kernel.execute('cast(4484333456, py_object).value.on_btn_prev()');\n",
       "                kernel.execute('cast(4484333456, py_object).value.render()', {iopub: {output: callback}}, {silent: false});\n",
       "                \"></input>\n",
       "            <input type='button' value='next' onclick=\"javascript:\n",
       "                kernel.execute('from ctypes import cast, py_object');\n",
       "                kernel.execute('cast(4484333456, py_object).value.on_btn_next()');\n",
       "                kernel.execute('cast(4484333456, py_object).value.render()', {iopub: {output: callback}}, {silent: false});\n",
       "                \"></input>\n",
       "        </div>\n",
       "        "
      ],
      "text/plain": [
       "<IPython.core.display.HTML object>"
      ]
     },
     "execution_count": 107,
     "metadata": {},
     "output_type": "execute_result"
    }
   ],
   "source": [
    "from task.jump import JumpGame, JumpGameFrameSource\n",
    "jump_game = JumpGame()\n",
    "jump_game.perform_action(JumpGame.ACTION_JUMP)\n",
    "source = JumpGameFrameSource(jump_game)\n",
    "frames = Frames(source)\n",
    "HTML(frames.html())"
   ]
  },
  {
   "cell_type": "code",
   "execution_count": 93,
   "metadata": {
    "collapsed": false
   },
   "outputs": [
    {
     "data": {
      "text/plain": [
       "False"
      ]
     },
     "execution_count": 93,
     "metadata": {},
     "output_type": "execute_result"
    }
   ],
   "source": [
    "not jump_game.state['in-air']"
   ]
  },
  {
   "cell_type": "code",
   "execution_count": 95,
   "metadata": {
    "collapsed": false
   },
   "outputs": [
    {
     "data": {
      "text/plain": [
       "array([[ 0.,  0.,  0.],\n",
       "       [ 0.,  0.,  0.],\n",
       "       [ 0.,  0.,  0.],\n",
       "       [ 0.,  0.,  0.],\n",
       "       [ 0.,  0.,  0.],\n",
       "       [ 0.,  0.,  0.],\n",
       "       [ 0.,  0.,  0.],\n",
       "       [ 0.,  0.,  0.],\n",
       "       [ 0.,  0.,  0.],\n",
       "       [ 0.,  0.,  0.],\n",
       "       [ 0.,  0.,  0.]])"
      ]
     },
     "execution_count": 95,
     "metadata": {},
     "output_type": "execute_result"
    }
   ],
   "source": [
    "jump_game.screen[10]"
   ]
  },
  {
   "cell_type": "code",
   "execution_count": null,
   "metadata": {
    "collapsed": true
   },
   "outputs": [],
   "source": []
  }
 ],
 "metadata": {
  "kernelspec": {
   "display_name": "Python 2",
   "language": "python",
   "name": "python2"
  },
  "language_info": {
   "codemirror_mode": {
    "name": "ipython",
    "version": 2
   },
   "file_extension": ".py",
   "mimetype": "text/x-python",
   "name": "python",
   "nbconvert_exporter": "python",
   "pygments_lexer": "ipython2",
   "version": "2.7.10"
  }
 },
 "nbformat": 4,
 "nbformat_minor": 0
}
