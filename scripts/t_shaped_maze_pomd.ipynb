{
 "cells": [
  {
   "cell_type": "code",
   "execution_count": null,
   "metadata": {
    "collapsed": true
   },
   "outputs": [],
   "source": [
    "import scriptinit\n",
    "import numpy as np\n",
    "import util\n",
    "from t_maze import *\n",
    "from experiment import *\n",
    "from agent import RecurrentReinforceAgent"
   ]
  },
  {
   "cell_type": "code",
   "execution_count": null,
   "metadata": {
    "collapsed": true
   },
   "outputs": [],
   "source": [
    "# general parameters\n",
    "hyperparams = {\n",
    "    # task specific\n",
    "    'maze_length' : 10,\n",
    "    'noisy_observations': False,\n",
    "    'gamma': 0.98,\n",
    "\n",
    "    # model specific\n",
    "    'hidden_dimension' : 128,\n",
    "    'num_trajectory_samples' : 10,\n",
    "    'truncate_gradient' : -1,  # number of steps to run BPTT (-1 means use the whole sequence)\n",
    "    'max_trajectory_length' : float('inf'),  # the length of longest (s, a, r) sequence used\n",
    "    \n",
    "    \n",
    "    # experiment specific\n",
    "    'max_episodes' : 5000,\n",
    "    'report_wait' : 50,\n",
    "    'save_wait' : 100,\n",
    "    'experiment_samples' : 20\n",
    "}\n",
    "\n",
    "\n",
    "# load into namespace and log to metadata\n",
    "for var, val in hyperparams.iteritems():\n",
    "    exec(\"{0} = hyperparams['{0}']\".format(var))\n",
    "    util.metadata(var, val)"
   ]
  },
  {
   "cell_type": "code",
   "execution_count": null,
   "metadata": {
    "collapsed": false
   },
   "outputs": [],
   "source": [
    "# set-up the task\n",
    "maze = TMaze(length = maze_length, noise=noisy_observations)\n",
    "task = TMazeTask(maze, gamma=gamma)\n",
    "\n",
    "# initialize the agent\n",
    "rr_agent = RecurrentReinforceAgent(task, hidden_dim=hidden_dimension,\n",
    "                                   num_samples=num_trajectory_samples,\n",
    "                                   truncate_gradient=truncate_gradient,\n",
    "                                   max_trajectory_length=max_trajectory_length)"
   ]
  },
  {
   "cell_type": "code",
   "execution_count": null,
   "metadata": {
    "collapsed": false
   },
   "outputs": [],
   "source": [
    "# prepare the experiment\n",
    "controllers = [BasicController(report_wait=report_wait, save_wait=save_wait, max_episodes=max_episodes)]\n",
    "observers = [TMazeObserver(num_samples=experiment_samples, report_wait=report_wait)]\n",
    "experiment = Experiment(rr_agent, task, controllers=controllers, observers=observers)"
   ]
  },
  {
   "cell_type": "code",
   "execution_count": null,
   "metadata": {
    "collapsed": false
   },
   "outputs": [],
   "source": [
    "experiment.run_experiments()"
   ]
  }
 ],
 "metadata": {
  "kernelspec": {
   "display_name": "Python 2",
   "language": "python",
   "name": "python2"
  },
  "language_info": {
   "codemirror_mode": {
    "name": "ipython",
    "version": 2
   },
   "file_extension": ".py",
   "mimetype": "text/x-python",
   "name": "python",
   "nbconvert_exporter": "python",
   "pygments_lexer": "ipython2",
   "version": "2.7.6"
  }
 },
 "nbformat": 4,
 "nbformat_minor": 0
}
