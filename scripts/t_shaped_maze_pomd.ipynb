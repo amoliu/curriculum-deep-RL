{
 "cells": [
  {
   "cell_type": "code",
   "execution_count": null,
   "metadata": {
    "collapsed": true
   },
   "outputs": [],
   "source": [
    "import scriptinit\n",
    "import numpy as np\n",
    "import argparse\n",
    "import util\n",
    "from t_maze import *\n",
    "from experiment import *\n",
    "from agent import RecurrentReinforceAgent"
   ]
  },
  {
   "cell_type": "code",
   "execution_count": null,
   "metadata": {
    "collapsed": false
   },
   "outputs": [],
   "source": [
    "# step up argument parsing\n",
    "parser = argparse.ArgumentParser()\n",
    "\n",
    "# task arguments\n",
    "parser.add_argument('-ml', '--maze_length', type=int, required=True)\n",
    "parser.add_argument('-no', '--noisy_observations', type=int, required=True) \n",
    "parser.add_argument('-g', '--gamma', type=float, required=True)\n",
    "\n",
    "# model arguments\n",
    "parser.add_argument('-hd', '--hidden_dimension', type=int, required=True)\n",
    "parser.add_argument('-ns', '--num_trajectory_samples', type=int, required=True)\n",
    "parser.add_argument('-tg', '--truncate_gradient', type=int, default=-1)  # number of steps to run BPTT (-1 means use the whole sequence)\n",
    "parser.add_argument('-mt', '--max_trajectory_length', type=float, default=float('inf'))  # the length of longest (s, a, r) sequence used\n",
    "\n",
    "# experiment specific arguments\n",
    "parser.add_argument('-me', '--max_episodes', type=int, required=True)\n",
    "parser.add_argument('-rw', '--report_wait', type=int, required=True)\n",
    "parser.add_argument('-sw', '--save_wait', type=int, required=True)\n",
    "parser.add_argument('-ex', '--experiment_samples', type=int, required=True)"
   ]
  },
  {
   "cell_type": "code",
   "execution_count": null,
   "metadata": {
    "collapsed": false
   },
   "outputs": [],
   "source": [
    "# load arguments into namespace and log to metadata\n",
    "if util.in_ipython():\n",
    "    args = parser.parse_args(['-ml', '3', '-no', '0', '-g', '0.98', '-hd', '128', '-ns', '10', '-me','5000',\n",
    "                              '-rw', '100', '-sw', '1000', '-ex', '50', '-mt', 'inf'])\n",
    "else:\n",
    "    args = parser.parse_args()\n",
    "\n",
    "hyperparams = vars(args)\n",
    "\n",
    "for var, val in hyperparams.iteritems():\n",
    "    exec(\"{0} = hyperparams['{0}']\".format(var))\n",
    "    util.metadata(var, val)"
   ]
  },
  {
   "cell_type": "code",
   "execution_count": null,
   "metadata": {
    "collapsed": false
   },
   "outputs": [],
   "source": [
    "# set-up the task\n",
    "maze = TMaze(length = maze_length, noise=noisy_observations)\n",
    "task = TMazeTask(maze, gamma=gamma)\n",
    "\n",
    "# initialize the agent\n",
    "rr_agent = RecurrentReinforceAgent(task, hidden_dim=hidden_dimension,\n",
    "                                   num_samples=num_trajectory_samples,\n",
    "                                   truncate_gradient=truncate_gradient,\n",
    "                                   max_trajectory_length=max_trajectory_length)"
   ]
  },
  {
   "cell_type": "code",
   "execution_count": null,
   "metadata": {
    "collapsed": false
   },
   "outputs": [],
   "source": [
    "# prepare the experiment\n",
    "controllers = [BasicController(report_wait=report_wait, save_wait=save_wait, max_episodes=max_episodes)]\n",
    "observers = [TMazeObserver(num_samples=experiment_samples, report_wait=report_wait)]\n",
    "experiment = Experiment(rr_agent, task, controllers=controllers, observers=observers)"
   ]
  },
  {
   "cell_type": "code",
   "execution_count": null,
   "metadata": {
    "collapsed": false
   },
   "outputs": [],
   "source": [
    "experiment.run_experiments()"
   ]
  },
  {
   "cell_type": "code",
   "execution_count": null,
   "metadata": {
    "collapsed": true
   },
   "outputs": [],
   "source": []
  }
 ],
 "metadata": {
  "kernelspec": {
   "display_name": "Python 2",
   "language": "python",
   "name": "python2"
  },
  "language_info": {
   "codemirror_mode": {
    "name": "ipython",
    "version": 2
   },
   "file_extension": ".py",
   "mimetype": "text/x-python",
   "name": "python",
   "nbconvert_exporter": "python",
   "pygments_lexer": "ipython2",
   "version": "2.7.6"
  }
 },
 "nbformat": 4,
 "nbformat_minor": 0
}
