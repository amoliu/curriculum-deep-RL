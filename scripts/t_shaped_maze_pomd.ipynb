{
 "cells": [
  {
   "cell_type": "code",
   "execution_count": null,
   "metadata": {
    "collapsed": true
   },
   "outputs": [],
   "source": [
    "import scriptinit\n",
    "import numpy as np\n",
    "import matplotlib\n",
    "import pylab as plt\n",
    "from t_maze import *\n",
    "from agent import RecurrentReinforceAgent"
   ]
  },
  {
   "cell_type": "code",
   "execution_count": null,
   "metadata": {
    "collapsed": true
   },
   "outputs": [],
   "source": [
    "# set-up a simple maze with small N\n",
    "length = 5\n",
    "maze = TMaze(length, noise=False)\n",
    "maze_task = TMazeTask(maze, gamma=0.98)"
   ]
  },
  {
   "cell_type": "code",
   "execution_count": null,
   "metadata": {
    "collapsed": true
   },
   "outputs": [],
   "source": [
    "# initialize the agent\n",
    "rr_agent = RecurrentReinforceAgent(maze_task, hidden_dim=128, num_samples=10)"
   ]
  },
  {
   "cell_type": "code",
   "execution_count": null,
   "metadata": {
    "collapsed": false
   },
   "outputs": [],
   "source": [
    "# set-up the basic task\n",
    "def experiment(agent, task, MAX_EPISODES):\n",
    "    '''\n",
    "        Number of runs until first success\n",
    "    '''\n",
    "    \n",
    "    def run():\n",
    "        task.reset()\n",
    "        curr_observation = task.get_start_state()  # the initial observation (left or right)\n",
    "        steps = 0\n",
    "        while True:\n",
    "            steps += 1\n",
    "            action = agent.get_action(curr_observation)\n",
    "            next_observation, reward = task.perform_action(action)\n",
    "            if next_observation is None:\n",
    "                agent.end_episode(reward)\n",
    "                return steps, reward\n",
    "            else:\n",
    "                agent.learn(next_observation, reward)\n",
    "                curr_observation = next_observation\n",
    "                \n",
    "    def percent_successful(trials=25):\n",
    "        num_success = 0.\n",
    "        for _ in xrange(trials):\n",
    "            steps, reward = run()\n",
    "            if(reward > 0):\n",
    "                num_success += 1\n",
    "        return num_success / float(trials)\n",
    "    \n",
    "    step = 50\n",
    "    total_steps = 0.\n",
    "    for episode in xrange(0, MAX_EPISODES, step):\n",
    "        for _ in xrange(step):\n",
    "            steps, reward = run()\n",
    "            total_steps += steps\n",
    "        per_succ = percent_successful()\n",
    "        \n",
    "        print 'Percent successful: ', per_succ\n",
    "    \n",
    "        if per_succ > .80:\n",
    "            break\n",
    "    \n",
    "    return total_steps"
   ]
  },
  {
   "cell_type": "code",
   "execution_count": null,
   "metadata": {
    "collapsed": false
   },
   "outputs": [],
   "source": [
    "# run the experiment!\n",
    "experiment(rr_agent, maze_task, MAX_EPISODES=50000)"
   ]
  }
 ],
 "metadata": {
  "kernelspec": {
   "display_name": "Python 2",
   "language": "python",
   "name": "python2"
  },
  "language_info": {
   "codemirror_mode": {
    "name": "ipython",
    "version": 2
   },
   "file_extension": ".py",
   "mimetype": "text/x-python",
   "name": "python",
   "nbconvert_exporter": "python",
   "pygments_lexer": "ipython2",
   "version": "2.7.6"
  }
 },
 "nbformat": 4,
 "nbformat_minor": 0
}
