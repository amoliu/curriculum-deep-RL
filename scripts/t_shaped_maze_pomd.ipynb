{
 "cells": [
  {
   "cell_type": "code",
   "execution_count": null,
   "metadata": {
    "collapsed": true
   },
   "outputs": [],
   "source": [
    "import scriptinit\n",
    "import numpy as np\n",
    "import matplotlib\n",
    "import pylab as plt\n",
    "from IPython import display\n",
    "from t_maze import *\n",
    "from agent import RecurrentReinforceAgent\n",
    "import diagnostics"
   ]
  },
  {
   "cell_type": "code",
   "execution_count": null,
   "metadata": {
    "collapsed": false
   },
   "outputs": [],
   "source": [
    "# set-up a simple maze with small N\n",
    "length = 100\n",
    "maze = TMaze(length, noise=False)\n",
    "maze_task = TMazeTask(maze, gamma=0.98)"
   ]
  },
  {
   "cell_type": "code",
   "execution_count": null,
   "metadata": {
    "collapsed": false
   },
   "outputs": [],
   "source": [
    "# initialize the agent\n",
    "rr_agent = RecurrentReinforceAgent(maze_task, hidden_dim=36, num_samples=10)"
   ]
  },
  {
   "cell_type": "code",
   "execution_count": null,
   "metadata": {
    "collapsed": false
   },
   "outputs": [],
   "source": [
    "# set-up the basic task\n",
    "def experiment(agent, task, MAX_EPISODES):\n",
    "    '''\n",
    "        Number of runs until first success\n",
    "    '''\n",
    "    \n",
    "    def run():\n",
    "        task.reset()\n",
    "        curr_observation = task.get_start_state()  # the initial observation (left or right)\n",
    "        steps = 0\n",
    "        while True:\n",
    "            steps += 1\n",
    "            action = agent.get_action(curr_observation)\n",
    "            next_observation, reward = task.perform_action(action)\n",
    "            if task.is_terminal():\n",
    "                agent.end_episode(reward)\n",
    "                return steps, reward\n",
    "            else:\n",
    "                agent.learn(next_observation, reward)\n",
    "                curr_observation = next_observation\n",
    "                \n",
    "    def percent_successful(trials=10):\n",
    "        num_success = 0.\n",
    "        for _ in xrange(trials):\n",
    "            steps, reward = run()\n",
    "            if(reward > 0):\n",
    "                num_success += 1\n",
    "        return num_success / float(trials)\n",
    "    \n",
    "    step = 50\n",
    "    total_steps = 0.\n",
    "    episodes = []\n",
    "    success_percentages = []\n",
    "    for episode in xrange(0, MAX_EPISODES, step):\n",
    "        per_succ = percent_successful()\n",
    "        episodes.append(episode)\n",
    "        success_percentages.append(per_succ)\n",
    "\n",
    "        plt.plot(episodes, success_percentages, 'b')\n",
    "        plt.xlabel('Iterations')\n",
    "        plt.ylabel('Success Percentage')\n",
    "        plt.title('Number of Steps (Avg. over 20 episodes) to Goal Completion versus Time')\n",
    "        display.display(plt.gcf())\n",
    "        display.clear_output(wait=True)\n",
    "\n",
    "        if per_succ > .90:\n",
    "            break\n",
    "        for _ in xrange(step):\n",
    "            steps, reward = run()\n",
    "            total_steps += steps\n",
    "\n",
    "    return total_steps"
   ]
  },
  {
   "cell_type": "code",
   "execution_count": null,
   "metadata": {
    "collapsed": false
   },
   "outputs": [],
   "source": [
    "# run the experiment!\n",
    "experiment(rr_agent, maze_task, MAX_EPISODES=5000)"
   ]
  },
  {
   "cell_type": "code",
   "execution_count": null,
   "metadata": {
    "collapsed": false
   },
   "outputs": [],
   "source": [
    "diagnostics.visualize_sample_trajectory(rr_agent, maze_task)"
   ]
  },
  {
   "cell_type": "code",
   "execution_count": null,
   "metadata": {
    "collapsed": true
   },
   "outputs": [],
   "source": []
  }
 ],
 "metadata": {
  "kernelspec": {
   "display_name": "Python 2",
   "language": "python",
   "name": "python2"
  },
  "language_info": {
   "codemirror_mode": {
    "name": "ipython",
    "version": 2
   },
   "file_extension": ".py",
   "mimetype": "text/x-python",
   "name": "python",
   "nbconvert_exporter": "python",
   "pygments_lexer": "ipython2",
   "version": "2.7.6"
  }
 },
 "nbformat": 4,
 "nbformat_minor": 0
}
