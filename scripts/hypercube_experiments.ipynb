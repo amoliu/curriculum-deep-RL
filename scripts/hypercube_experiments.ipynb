{
 "cells": [
  {
   "cell_type": "code",
   "execution_count": null,
   "metadata": {
    "collapsed": false
   },
   "outputs": [],
   "source": [
    "import scriptinit\n",
    "import numpy as np\n",
    "import argparse\n",
    "import util\n",
    "from hypercube import *\n",
    "from experiment import *\n",
    "from agent import RecurrentReinforceAgent, DQN"
   ]
  },
  {
   "cell_type": "code",
   "execution_count": null,
   "metadata": {
    "collapsed": false
   },
   "outputs": [],
   "source": [
    "# step up argument parsing\n",
    "parser = argparse.ArgumentParser()\n",
    "\n",
    "def tup(s):\n",
    "    try:\n",
    "        s = s[1:-1]  # strip off the ( ) \n",
    "        return tuple(map(int, s.split(',')))\n",
    "    except:\n",
    "        raise argparse.ArgumentTypeError(\"Must give a tuple!\")\n",
    "\n",
    "# task arguments\n",
    "parser.add_argument('-d', '--dimensions', type=tup, required=True)  # expects a (x, y, z, ...) tuple\n",
    "parser.add_argument('-as', '--action_stochasticity', type=float, required=True)\n",
    "parser.add_argument('-wp', '--wall_penalty', type=float, required=True)\n",
    "parser.add_argument('-tp', '-time_penalty', type=float, required=True)\n",
    "parser.add_argument('-r', '--reward', type=float, required=True)\n",
    "parser.add_argument('-g', '--gamma', type=float, required=True)\n",
    "\n",
    "# model arguments\n",
    "parser.add_argument('-hd', '--hidden_dimension', type=int, required=True)\n",
    "parser.add_argument('-lr', '--lr', type=float, required=True)\n",
    "parser.add_argument('-eps', '--epsilon', type=float, required=True)\n",
    "\n",
    "# experiment arguments\n",
    "parser.add_argument('-me', '--max_episodes', type=int, required=True)\n",
    "parser.add_argument('-rw', '--report_wait', type=int, required=True)\n",
    "parser.add_argument('-sw', '--save_wait', type=int, required=True)\n",
    "parser.add_argument('-fo', '--fully_observed', type=int, required=True) \n",
    "parser.add_argument('-ts', '--task_samples', type=int, required=True)"
   ]
  },
  {
   "cell_type": "code",
   "execution_count": null,
   "metadata": {
    "collapsed": false
   },
   "outputs": [],
   "source": [
    "if util.in_ipython():\n",
    "    args = parser.parse_args(['-d','(5, 5, 5)', '-as', '0.', '-wp', '-0.1', '-tp', '-0.1', '-r', '4', '-g', '0.9',\n",
    "                              '-hd', '128', '-lr', '0.05', '-eps', '0.15', '-me', '10', '-rw', '2',\n",
    "                              '-sw', '5', '-fo', '1', '-ts', '25'])\n",
    "else:\n",
    "    args = parser.parse_args()\n",
    "\n",
    "hyperparams = vars(args)\n",
    "\n",
    "# load into namespace and log to metadata\n",
    "for var, val in hyperparams.iteritems():\n",
    "    exec(\"{0} = hyperparams['{0}']\".format(var))\n",
    "    util.metadata(var, val)"
   ]
  },
  {
   "cell_type": "code",
   "execution_count": null,
   "metadata": {
    "collapsed": false
   },
   "outputs": [],
   "source": [
    "# set up the task\n",
    "world = np.zeros(dimensions)\n",
    "maze = HyperCubeMaze(dimensions=dimensions, action_stoch=0., grid=world)\n",
    "task = HyperCubeMazeTask(maze, wall_penalty=-0.1, time_penalty=-0.1, reward=4., gamma=0.9, fully_observed=True)\n",
    "\n",
    "\n",
    "# for debugging, let's just use a simple fixed goal (assumes the world is 2D!)\n",
    "goal_vec = np.random.randint(0, 2, size=(2 ** len(dimensions), 1))\n",
    "while np.sum(goal_vec) == 0.:\n",
    "    goal_vec = np.random.randint(0, 2, size=(2 ** len(dimensions), 1))\n",
    "\n",
    "print 'GOAL VECTOR: ', goal_vec\n",
    "\n",
    "task.set_goals(goal_vec)\n",
    "\n",
    "agent = DQN(task, hidden_dim=hidden_dimension, lr=lr, epsilon=epsilon)"
   ]
  },
  {
   "cell_type": "code",
   "execution_count": null,
   "metadata": {
    "collapsed": false
   },
   "outputs": [],
   "source": [
    "# set up the experiment environment\n",
    "controllers = [BasicController(report_wait=report_wait, save_wait=save_wait, max_episodes=max_episodes)]\n",
    "observers = [HyperCubeObserver(report_wait=report_wait), AverageRewardObserver(report_wait=report_wait), AverageQValueObserver(task_samples=task_samples, report_wait=report_wait)]\n",
    "experiment = Experiment(agent, task, controllers=controllers, observers=observers)"
   ]
  },
  {
   "cell_type": "code",
   "execution_count": null,
   "metadata": {
    "collapsed": false
   },
   "outputs": [],
   "source": [
    "# launch experiment\n",
    "experiment.run_experiments()"
   ]
  },
  {
   "cell_type": "code",
   "execution_count": null,
   "metadata": {
    "collapsed": true
   },
   "outputs": [],
   "source": []
  }
 ],
 "metadata": {
  "kernelspec": {
   "display_name": "Python 2",
   "language": "python",
   "name": "python2"
  },
  "language_info": {
   "codemirror_mode": {
    "name": "ipython",
    "version": 2
   },
   "file_extension": ".py",
   "mimetype": "text/x-python",
   "name": "python",
   "nbconvert_exporter": "python",
   "pygments_lexer": "ipython2",
   "version": "2.7.6"
  }
 },
 "nbformat": 4,
 "nbformat_minor": 0
}
