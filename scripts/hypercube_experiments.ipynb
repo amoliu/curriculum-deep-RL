{
 "cells": [
  {
   "cell_type": "code",
   "execution_count": null,
   "metadata": {
    "collapsed": false
   },
   "outputs": [],
   "source": [
    "import scriptinit\n",
    "import numpy as np\n",
    "import util\n",
    "from hypercube import *\n",
    "from experiment import *\n",
    "from agent import RecurrentReinforceAgent, DQN"
   ]
  },
  {
   "cell_type": "code",
   "execution_count": null,
   "metadata": {
    "collapsed": false
   },
   "outputs": [],
   "source": [
    "# general parameters\n",
    "hyperparams = {\n",
    "    # task specific\n",
    "    'dimensions' : (5, 5),\n",
    "    'action_stochasticity' : 0.0,\n",
    "    'wall_penalty': -0.1,\n",
    "    'time_penalty' : -0.1,\n",
    "    'reward' : 4,\n",
    "    'gamma' : 0.9,\n",
    "\n",
    "#     # model specific (RecurrentReinforce Agent)\n",
    "#     'hidden_dimension' : 128,\n",
    "#     'num_trajectory_samples' : 10,\n",
    "#     'truncate_gradient' : -1,  # number of steps to run BPTT (-1 means use the whole sequence)\n",
    "#     'max_trajectory_length' : float('inf'),  # the length of longest (s, a, r) sequence used\n",
    "    \n",
    "    # model specific (DQN)\n",
    "    'hidden_dimension' : 128,\n",
    "    'lr' : 0.05,\n",
    "    'epsilon': 0.15,\n",
    "    \n",
    "    # experiment specific\n",
    "    'max_episodes' : 500,\n",
    "    'report_wait' : 50,\n",
    "    'save_wait' : 100,\n",
    "    'fully_observed': True\n",
    "}\n",
    "\n",
    "# load into namespace and log to metadata\n",
    "for var, val in hyperparams.iteritems():\n",
    "    exec(\"{0} = hyperparams['{0}']\".format(var))\n",
    "    util.metadata(var, val)"
   ]
  },
  {
   "cell_type": "code",
   "execution_count": null,
   "metadata": {
    "collapsed": false
   },
   "outputs": [],
   "source": [
    "# set up the task\n",
    "world = np.zeros(dimensions)\n",
    "maze = HyperCubeMaze(dimensions=dimensions, action_stoch=0., grid=world)\n",
    "task = HyperCubeMazeTask(maze, wall_penalty=-0.1, time_penalty=-0.1, reward=4., gamma=0.9, fully_observed=True)\n",
    "\n",
    "\n",
    "# for debugging, let's just use a simple 2-corner goal (assumes the world is 2D!)\n",
    "goal_vec = np.random.randint(0, 2, size=(2 ** len(dimensions), 1))\n",
    "while np.sum(goal_vec) == 0.:\n",
    "    goal_vec = np.random.randint(0, 2, size=(2 ** len(dimensions), 1))\n",
    "\n",
    "task.set_goals(goal_vec)\n",
    "\n",
    "# initialize the agent\n",
    "# agent = RecurrentReinforceAgent(task, hidden_dim=hidden_dimension,\n",
    "#                                 num_samples=num_trajectory_samples,\n",
    "#                                 truncate_gradient=truncate_gradient,\n",
    "#                                 max_trajectory_length=max_trajectory_length)\n",
    "\n",
    "agent = DQN(task, hidden_dim=hidden_dimension, lr=lr, epsilon=epsilon)"
   ]
  },
  {
   "cell_type": "code",
   "execution_count": null,
   "metadata": {
    "collapsed": false
   },
   "outputs": [],
   "source": [
    "# set up the experiment environment\n",
    "controllers = [BasicController(report_wait=report_wait, save_wait=save_wait, max_episodes=max_episodes)]\n",
    "observers = [HyperCubeObserver(report_wait=report_wait), AverageRewardObserver(report_wait=report_wait)]\n",
    "experiment = Experiment(agent, task, controllers=controllers, observers=observers)"
   ]
  },
  {
   "cell_type": "code",
   "execution_count": null,
   "metadata": {
    "collapsed": false
   },
   "outputs": [],
   "source": [
    "# launch experiment\n",
    "experiment.run_experiments()"
   ]
  },
  {
   "cell_type": "code",
   "execution_count": null,
   "metadata": {
    "collapsed": true
   },
   "outputs": [],
   "source": []
  }
 ],
 "metadata": {
  "kernelspec": {
   "display_name": "Python 2",
   "language": "python",
   "name": "python2"
  },
  "language_info": {
   "codemirror_mode": {
    "name": "ipython",
    "version": 2
   },
   "file_extension": ".py",
   "mimetype": "text/x-python",
   "name": "python",
   "nbconvert_exporter": "python",
   "pygments_lexer": "ipython2",
   "version": "2.7.6"
  }
 },
 "nbformat": 4,
 "nbformat_minor": 0
}
