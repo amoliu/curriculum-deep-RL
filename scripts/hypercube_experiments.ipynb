{
 "cells": [
  {
   "cell_type": "code",
   "execution_count": null,
   "metadata": {
    "collapsed": false
   },
   "outputs": [],
   "source": [
    "import scriptinit\n",
    "import numpy as np\n",
    "import matplotlib\n",
    "import pylab as plt\n",
    "from IPython import display\n",
    "import diagnostics\n",
    "from hypercube import *\n",
    "from agent import RecurrentReinforceAgent"
   ]
  },
  {
   "cell_type": "code",
   "execution_count": null,
   "metadata": {
    "collapsed": false
   },
   "outputs": [],
   "source": [
    "# set-up a simple 2-D cube\n",
    "dimensions = (5, 5)\n",
    "world = np.zeros(dimensions)\n",
    "maze = HyperCubeMaze(dimensions=dimensions, action_stoch=0., grid=world)\n",
    "task = HyperCubeMazeTask(maze, wall_penalty=-0.1, time_penalty=-0.1, reward=4., gamma=0.9)"
   ]
  },
  {
   "cell_type": "code",
   "execution_count": null,
   "metadata": {
    "collapsed": false
   },
   "outputs": [],
   "source": [
    "# set a simple 2-corner goal\n",
    "goal_vec = np.zeros((4, 1))\n",
    "goal_vec[0] = 1.\n",
    "goal_vec[3] = 1.\n",
    "task.set_goals(goal_vec)"
   ]
  },
  {
   "cell_type": "code",
   "execution_count": null,
   "metadata": {
    "collapsed": false
   },
   "outputs": [],
   "source": [
    "# initialize the agent\n",
    "rr_agent = RecurrentReinforceAgent(task, hidden_dim=128, num_samples=10)"
   ]
  },
  {
   "cell_type": "code",
   "execution_count": null,
   "metadata": {
    "collapsed": true
   },
   "outputs": [],
   "source": [
    "# set-up the experiment\n",
    "def experiment(agent, task, NUM_EPISODES):\n",
    "    def trial():\n",
    "        task.reset()\n",
    "        current_state = task.get_current_state()\n",
    "        steps = 0\n",
    "        while True:\n",
    "            steps += 1\n",
    "            action = agent.get_action(current_state)\n",
    "            next_state, reward = task.perform_action(action)\n",
    "            if task.is_terminal():\n",
    "                agent.end_episode(reward)\n",
    "                return steps\n",
    "            else:\n",
    "                agent.learn(next_state, reward)\n",
    "                current_state = next_state\n",
    "    \n",
    "    avg_step_history = []\n",
    "    episodes = []\n",
    "    recent_step_history = []\n",
    "    for episode in xrange(NUM_EPISODES):\n",
    "        num_steps = trial()\n",
    "        recent_step_history.append(num_steps)\n",
    "        \n",
    "        if episode % 20 == 0:\n",
    "            episodes.append(episode)\n",
    "            avg_step_history.append(np.mean(recent_step_history))\n",
    "        \n",
    "            plt.plot(episodes, avg_step_history, 'b')\n",
    "            plt.xlabel('Iterations')\n",
    "            plt.ylabel('Number of Steps')\n",
    "            plt.title('Number of Steps (Avg. over 20 episodes) to Goal Completion versus Time')\n",
    "            display.display(plt.gcf())\n",
    "            display.clear_output(wait=True)"
   ]
  },
  {
   "cell_type": "code",
   "execution_count": null,
   "metadata": {
    "collapsed": false
   },
   "outputs": [],
   "source": [
    "# run the experiment\n",
    "print experiment(rr_agent, task, NUM_EPISODES=200)"
   ]
  },
  {
   "cell_type": "code",
   "execution_count": null,
   "metadata": {
    "collapsed": false
   },
   "outputs": [],
   "source": [
    "diagnostics.visualize_sample_trajectory(rr_agent, task)"
   ]
  },
  {
   "cell_type": "code",
   "execution_count": null,
   "metadata": {
    "collapsed": true
   },
   "outputs": [],
   "source": []
  }
 ],
 "metadata": {
  "kernelspec": {
   "display_name": "Python 2",
   "language": "python",
   "name": "python2"
  },
  "language_info": {
   "codemirror_mode": {
    "name": "ipython",
    "version": 2
   },
   "file_extension": ".py",
   "mimetype": "text/x-python",
   "name": "python",
   "nbconvert_exporter": "python",
   "pygments_lexer": "ipython2",
   "version": "2.7.6"
  }
 },
 "nbformat": 4,
 "nbformat_minor": 0
}
