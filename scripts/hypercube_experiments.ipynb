{
 "cells": [
  {
   "cell_type": "code",
   "execution_count": null,
   "metadata": {
    "collapsed": false
   },
   "outputs": [],
   "source": [
    "import scriptinit\n",
    "import sys\n",
    "import numpy as np\n",
    "import matplotlib\n",
    "import pylab as plt\n",
    "from hypercube import *\n",
    "from agent import RecurrentReinforceAgent"
   ]
  },
  {
   "cell_type": "code",
   "execution_count": null,
   "metadata": {
    "collapsed": false
   },
   "outputs": [],
   "source": [
    "# set-up a simple 2-D cube\n",
    "dimensions = (3, 3)\n",
    "walls = np.zeros(dimensions)\n",
    "maze = HyperCubeMaze(dimensions=dimensions, action_stoch=0., grid=walls)\n",
    "task = HyperCubeMazeTask(maze, wall_penalty=-0.1, time_penalty=0., reward=4., gamma=0.9)"
   ]
  },
  {
   "cell_type": "code",
   "execution_count": null,
   "metadata": {
    "collapsed": false
   },
   "outputs": [],
   "source": [
    "# set a simple 2-corner goal\n",
    "goal_vec = np.zeros((4, 1))\n",
    "goal_vec[0] = 1.\n",
    "goal_vec[1] = 1.\n",
    "task.set_goals(goal_vec)"
   ]
  },
  {
   "cell_type": "code",
   "execution_count": null,
   "metadata": {
    "collapsed": false
   },
   "outputs": [],
   "source": [
    "# initialize the agent\n",
    "rr_agent = RecurrentReinforceAgent(task, hidden_dim=128, num_samples=10)"
   ]
  },
  {
   "cell_type": "code",
   "execution_count": null,
   "metadata": {
    "collapsed": true
   },
   "outputs": [],
   "source": [
    "# set-up the experiment\n",
    "def experiment(agent, task, NUM_EPISODES):\n",
    "    def trial():\n",
    "        task.reset()\n",
    "        current_state = task.get_current_state()\n",
    "        steps = 0\n",
    "        while True:\n",
    "            steps += 1\n",
    "            action = agent.get_action(current_state)\n",
    "            next_state, reward = task.perform_action(action)\n",
    "            if reward > 0:\n",
    "                print next_state\n",
    "                print 'hit!'\n",
    "                sys.stdout.flush()\n",
    "                sys\n",
    "            if task.is_terminal():\n",
    "                agent.end_episode(reward)\n",
    "                return steps\n",
    "            else:\n",
    "                agent.learn(next_state, reward)\n",
    "                current_state = next_state\n",
    "    \n",
    "    print task.goals\n",
    "    for episode in xrange(NUM_EPISODES):\n",
    "        num_steps = trial()\n",
    "        print 'Number of steps: ', num_steps"
   ]
  },
  {
   "cell_type": "code",
   "execution_count": null,
   "metadata": {
    "collapsed": false
   },
   "outputs": [],
   "source": [
    "# run the experiment\n",
    "print experiment(rr_agent, task, NUM_EPISODES=500)"
   ]
  },
  {
   "cell_type": "code",
   "execution_count": null,
   "metadata": {
    "collapsed": false
   },
   "outputs": [],
   "source": []
  },
  {
   "cell_type": "code",
   "execution_count": null,
   "metadata": {
    "collapsed": false
   },
   "outputs": [],
   "source": []
  },
  {
   "cell_type": "code",
   "execution_count": null,
   "metadata": {
    "collapsed": true
   },
   "outputs": [],
   "source": []
  }
 ],
 "metadata": {
  "kernelspec": {
   "display_name": "Python 2",
   "language": "python",
   "name": "python2"
  },
  "language_info": {
   "codemirror_mode": {
    "name": "ipython",
    "version": 2
   },
   "file_extension": ".py",
   "mimetype": "text/x-python",
   "name": "python",
   "nbconvert_exporter": "python",
   "pygments_lexer": "ipython2",
   "version": "2.7.6"
  }
 },
 "nbformat": 4,
 "nbformat_minor": 0
}
