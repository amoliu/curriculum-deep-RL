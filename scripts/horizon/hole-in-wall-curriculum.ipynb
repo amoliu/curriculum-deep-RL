{
 "cells": [
  {
   "cell_type": "markdown",
   "metadata": {},
   "source": [
    "# Adaptive Curriculum for the Hole in Wall Task"
   ]
  },
  {
   "cell_type": "code",
   "execution_count": 20,
   "metadata": {
    "collapsed": false
   },
   "outputs": [],
   "source": [
    "%reload_ext autoreload\n",
    "%autoreload 2\n",
    "%matplotlib inline\n",
    "import sys\n",
    "sys.path.append('../')\n",
    "import scriptinit\n",
    "import numpy as np\n",
    "import numpy.random as npr\n",
    "import numpy.linalg as npla\n",
    "from matplotlib.pyplot import *\n",
    "from pyrl.algorithms.uvfa import *\n",
    "from pyrl.algorithms.valueiter import *\n",
    "from pyrl.tasks.gridworld import *\n",
    "from pyrl.algorithms.nn import *\n",
    "from pyrl.agents.agent import *\n",
    "from pyrl.agents.multitask import *\n",
    "from pyrl.algorithms.multitask import *\n",
    "import pyrl.agents.arch as arch\n",
    "from pyrl.prob import *\n",
    "from pyrl.utils import *\n",
    "from pyrl.evaluate import *"
   ]
  },
  {
   "cell_type": "code",
   "execution_count": 6,
   "metadata": {
    "collapsed": true
   },
   "outputs": [],
   "source": [
    "def showV(v):\n",
    "    imshow(v.reshape(H, W), interpolation='none')\n",
    "    plt.axis('off')\n",
    "#     print v\n",
    "    \n",
    "def showExperience(agent):\n",
    "    task_types = set(agent.experience_task)\n",
    "    task_percent = dict()\n",
    "    for task in task_types:\n",
    "        task_percent[task] = sum([e == task for e in agent.experience_task])\n",
    "#     total = sum(task_percent.values())\n",
    "    total = 1.\n",
    "    return {key: val / float(total) for (key, val) in task_percent.items()}"
   ]
  },
  {
   "cell_type": "code",
   "execution_count": 7,
   "metadata": {
    "collapsed": false,
    "scrolled": true
   },
   "outputs": [
    {
     "data": {
      "image/png": "[encoded data removed]",
      "text/plain": [
       "<matplotlib.figure.Figure at 0x106383f90>"
      ]
     },
     "metadata": {},
     "output_type": "display_data"
    }
   ],
   "source": [
    "# world 1\n",
    "H = W = 21\n",
    "world = np.zeros((H, W))\n",
    "world[:10, 10] = 1\n",
    "world[11:, 10] = 1\n",
    "showV(world)"
   ]
  },
  {
   "cell_type": "markdown",
   "metadata": {},
   "source": [
    "# Sanity Checks\n",
    "\n",
    "Start with a few sub-tasks, and see if the strategies (like Gaussian Process) are working."
   ]
  },
  {
   "cell_type": "code",
   "execution_count": 33,
   "metadata": {
    "collapsed": true
   },
   "outputs": [],
   "source": [
    "two_layer_arch = lambda states: arch.two_layer(states, H * W * 2, 32, 4)\n",
    "grid = Grid(world, action_stoch=0.2)\n",
    "tol = 1e-6"
   ]
  },
  {
   "cell_type": "code",
   "execution_count": 46,
   "metadata": {
    "collapsed": false
   },
   "outputs": [],
   "source": [
    "goal = {(20, 20): 1.}\n",
    "max_steps = 2.\n",
    "gamma = tol ** (1. / max_steps)\n",
    "tasks = [GridWorldUltimateFixedStart(grid.state_id[(19,20)], grid_env=grid, goal=goal, demons={}, rewards=goal, wall_penalty=0., gamma=gamma),\n",
    "         GridWorldUltimateFixedStart(grid.state_id[(20,19)], grid_env=grid, goal=goal, demons={}, rewards=goal, wall_penalty=0., gamma=gamma),\n",
    "         GridWorldUltimateFixedStart(grid.state_id[(19,19)], grid_env=grid, goal=goal, demons={}, rewards=goal, wall_penalty=0., gamma=gamma),\n",
    "         GridWorldUltimateFixedStart(grid.state_id[(12,12)], grid_env=grid, goal=goal, demons={}, rewards=goal, wall_penalty=0., gamma=gamma),\n",
    "         GridWorldUltimateFixedStart(grid.state_id[(0,0)], grid_env=grid, goal=goal, demons={}, rewards=goal, wall_penalty=0., gamma=gamma),\n",
    "         ]\n",
    "         "
   ]
  },
  {
   "cell_type": "code",
   "execution_count": 48,
   "metadata": {
    "collapsed": true
   },
   "outputs": [],
   "source": [
    "def run_on_task(task):\n",
    "    dqn = DQN(task, two_layer_arch)\n",
    "    learner = DeepQlearn(task, dqn, lr=1e-4, memory_size=250)\n",
    "    performance = []\n",
    "    for it in range(20):\n",
    "        learner.run(budget = 100)\n",
    "        performance.append(reward_tabular_normalized_fix_start(dqn, task, tol=1e-4))\n",
    "#         performance.append(reward_stochastic(dqn, task, num_trials=1000, tol=1e-4))\n",
    "#         print performance[-1]\n",
    "    plot(performance)"
   ]
  },
  {
   "cell_type": "code",
   "execution_count": 49,
   "metadata": {
    "collapsed": false
   },
   "outputs": [
    {
     "data": {
      "image/png": "[encoded data removed]",
      "text/plain": [
       "<matplotlib.figure.Figure at 0x10721ad90>"
      ]
     },
     "metadata": {},
     "output_type": "display_data"
    }
   ],
   "source": [
    "run_on_task(tasks[0])"
   ]
  },
  {
   "cell_type": "code",
   "execution_count": 50,
   "metadata": {
    "collapsed": false
   },
   "outputs": [
    {
     "data": {
      "image/png": "[encoded data removed]",
      "text/plain": [
       "<matplotlib.figure.Figure at 0x10786ac90>"
      ]
     },
     "metadata": {},
     "output_type": "display_data"
    }
   ],
   "source": [
    "run_on_task(tasks[1])"
   ]
  },
  {
   "cell_type": "code",
   "execution_count": 51,
   "metadata": {
    "collapsed": false
   },
   "outputs": [
    {
     "data": {
      "image/png": "[encoded data removed]",
      "text/plain": [
       "<matplotlib.figure.Figure at 0x106ae2050>"
      ]
     },
     "metadata": {},
     "output_type": "display_data"
    }
   ],
   "source": [
    "run_on_task(tasks[2])"
   ]
  },
  {
   "cell_type": "code",
   "execution_count": 52,
   "metadata": {
    "collapsed": false
   },
   "outputs": [
    {
     "data": {
      "image/png": "[encoded data removed]",
      "text/plain": [
       "<matplotlib.figure.Figure at 0x106b64b10>"
      ]
     },
     "metadata": {},
     "output_type": "display_data"
    }
   ],
   "source": [
    "run_on_task(tasks[3])"
   ]
  },
  {
   "cell_type": "code",
   "execution_count": 53,
   "metadata": {
    "collapsed": false
   },
   "outputs": [
    {
     "data": {
      "image/png": "[encoded data removed]",
      "text/plain": [
       "<matplotlib.figure.Figure at 0x10769a310>"
      ]
     },
     "metadata": {},
     "output_type": "display_data"
    }
   ],
   "source": [
    "run_on_task(tasks[4])"
   ]
  },
  {
   "cell_type": "markdown",
   "metadata": {},
   "source": [
    "# Non-Stationary MAB\n",
    "\n",
    "Use the expected performance gain to measure the progress in MAB."
   ]
  },
  {
   "cell_type": "code",
   "execution_count": 243,
   "metadata": {
    "collapsed": true
   },
   "outputs": [],
   "source": [
    "class SingleLearnerMAB(object):\n",
    "    def __init__(self, dqn, tasks, mab_gamma, mab_scale, mab_batch_size, **kwargs):\n",
    "        self.dqn = dqn\n",
    "        self.tasks = tasks\n",
    "        self.log_weights = [0. for task in tasks]\n",
    "        self.mab_gamma = mab_gamma\n",
    "        self.mab_batch_size = mab_batch_size\n",
    "        self.mab_scale = mab_scale\n",
    "        self.deepQlearn = DeepQlearn(tasks[0], dqn, **kwargs)\n",
    "        self.cumulative_epochs = 0\n",
    "        self.last_task = 0\n",
    "        self.last_performance = 0.\n",
    "        self.last_perfomances = []\n",
    "        self.last_progress = 0.\n",
    "        for ti, task in enumerate(self.tasks):\n",
    "            self.last_performance += reward_tabular_normalized_fix_start(self.dqn, task, tol=1e-4)\n",
    "        print 'initial performance', self.last_performance\n",
    "\n",
    "    def run(self, num_epochs=1, budget=100):\n",
    "        num_tasks = len(self.tasks)\n",
    "        for epoch in range(num_epochs):\n",
    "            # choose task based on weights.\n",
    "            taski = -1\n",
    "            if npr.rand() < self.mab_gamma / num_tasks:\n",
    "                taski = npr.choice(range(num_tasks), 1)[0]\n",
    "            else:\n",
    "                p = np.exp(prob.normalize_log(self.log_weights))\n",
    "                taski = npr.choice(range(num_tasks), 1, replace=True, p=p)[0]\n",
    "                \n",
    "            task = self.tasks[taski]\n",
    "            self.last_task = taski\n",
    "\n",
    "            # (TODO) this breaks away the abstraction.\n",
    "            self.deepQlearn.task = task\n",
    "            self.dqn.task = task\n",
    "\n",
    "            # run training.\n",
    "            self.deepQlearn.run(budget = budget)\n",
    "\n",
    "            # update weights.\n",
    "            self.cumulative_epochs += 1\n",
    "            if self.cumulative_epochs >= self.mab_batch_size:\n",
    "                self.log_weights[:] = 0.\n",
    "            else:\n",
    "                performance = 0.\n",
    "                self.last_performances = []\n",
    "                for ti, task in enumerate(self.tasks):\n",
    "                    self.last_performances.append(reward_tabular_normalized_fix_start(self.dqn, task, tol=1e-4))\n",
    "                    performance += self.last_performances[-1]\n",
    "                progress = performance - self.last_performance\n",
    "                self.last_performance = performance\n",
    "                self.last_progress = progress\n",
    "                self.log_weights[taski] += self.mab_gamma * self.mab_scale * progress / num_tasks\n",
    "                for ti in range(num_tasks):\n",
    "                    self.log_weights[ti] -= 10.\n",
    "                self.log_weights = normalize_log(self.log_weights)\n"
   ]
  },
  {
   "cell_type": "code",
   "execution_count": 244,
   "metadata": {
    "collapsed": false
   },
   "outputs": [
    {
     "name": "stdout",
     "output_type": "stream",
     "text": [
      "initial performance 0.713875546719\n"
     ]
    }
   ],
   "source": [
    "dqn = DQN(tasks[0], two_layer_arch)\n",
    "learner = SingleLearnerMAB(dqn, tasks, mab_gamma = 0.2, mab_scale = 30., mab_batch_size = 10000)"
   ]
  },
  {
   "cell_type": "code",
   "execution_count": 245,
   "metadata": {
    "collapsed": false,
    "scrolled": true
   },
   "outputs": [
    {
     "name": "stdout",
     "output_type": "stream",
     "text": [
      "task 3\n",
      "progress 0.0\n",
      "performance [0.19140215072524716, 0.40935212580489022, 0.11312127018895113, 0.0, 0.0]\n",
      "performance 0.713875546719\n",
      "[ 0.2  0.2  0.2  0.2  0.2]\n",
      "[-1.60943791 -1.60943791 -1.60943791 -1.60943791 -1.60943791]\n",
      "\n",
      "task 4\n",
      "progress 0.305859268169\n",
      "performance [0.30034356940453777, 0.49842132360864461, 0.2209699218747436, 0.0, 0.0]\n",
      "performance 1.01973481489\n",
      "[ 0.18370727  0.18370727  0.18370727  0.18370727  0.26517094]\n",
      "[-1.69441174 -1.69441174 -1.69441174 -1.69441174 -1.32738061]\n",
      "\n",
      "task 3\n",
      "progress 0.0467604807917\n",
      "performance [0.31694587268809832, 0.51387271054798789, 0.23567671244357147, 0.0, 0.0]\n",
      "performance 1.06649529568\n",
      "[ 0.18177986  0.18177986  0.18177986  0.1922716   0.26238883]\n",
      "[-1.70495891 -1.70495891 -1.70495891 -1.64884633 -1.33792778]\n",
      "\n",
      "task 4\n",
      "progress -0.016826654074\n",
      "performance [0.29751869814862614, 0.52526699263515197, 0.22688295082190901, 0.0, 0.0]\n",
      "performance 1.04966864161\n",
      "[ 0.18273832  0.18273832  0.18273832  0.19328538  0.25849965]\n",
      "[-1.69970008 -1.69970008 -1.69970008 -1.64358751 -1.35286095]\n",
      "\n",
      "task 1\n",
      "progress 0.413428411948\n",
      "performance [0.14223476687261424, 0.99955341976357992, 0.3213088669174799, 0.0, 0.0]\n",
      "performance 1.46309705355\n",
      "[ 0.16354212  0.26858962  0.16354212  0.17298124  0.23134491]\n",
      "[-1.81068472 -1.31457063 -1.81068472 -1.75457215 -1.46384559]\n",
      "\n",
      "task 3\n",
      "progress 0.0391764338547\n",
      "performance [0.15752677818251998, 0.999673792286916, 0.34507291693896097, 0.0, 0.0]\n",
      "performance 1.50227348741\n",
      "[ 0.16219166  0.26637172  0.16219166  0.17981041  0.22943456]\n",
      "[-1.81897658 -1.32286249 -1.81897658 -1.71585228 -1.47213744]\n",
      "\n",
      "task 1\n",
      "progress 0.0244718096596\n",
      "performance [0.17601038831546229, 0.99881911043574501, 0.35191579831674097, 0.0, 0.0]\n",
      "performance 1.52674529707\n",
      "[ 0.16091427  0.27214962  0.16091427  0.17839426  0.22762758]\n",
      "[-1.82688354 -1.30140328 -1.82688354 -1.72375925 -1.48004441]\n",
      "\n",
      "task 0\n",
      "progress 1.37381679243\n",
      "performance [0.99925647131217787, 0.96650911057563593, 0.93479650760804311, 0.0, 0.0]\n",
      "performance 2.9005620895\n",
      "[ 0.49928475  0.16240232  0.09602383  0.10645483  0.13583427]\n",
      "[-0.6945787  -1.81767859 -2.34315885 -2.24003456 -1.99631972]\n",
      "\n",
      "task 0\n",
      "progress -0.365414216215\n",
      "performance [0.99905040844933457, 0.99434826511057772, 0.54174919972095736, 0.0, 0.0]\n",
      "performance 2.53514787328\n",
      "[ 0.39141742  0.19738808  0.11670991  0.12938802  0.16509657]\n",
      "[-0.93798072 -1.62258355 -2.14806381 -2.04493951 -1.80122467]\n",
      "\n",
      "task 4\n",
      "progress 0.0259528707199\n",
      "performance [0.99943554588739947, 0.99792623180848072, 0.5637389663049297, 0.0, 0.0]\n",
      "performance 2.561100744\n",
      "[ 0.38938383  0.19636256  0.11610355  0.12871579  0.16943427]\n",
      "[-0.94318971 -1.62779253 -2.1532728  -2.0501485  -1.77529022]\n",
      "\n",
      "task 1\n",
      "progress -0.0124210665041\n",
      "performance [0.99866529688805861, 0.99321252114902314, 0.55680185945966731, 0.0, 0.0]\n",
      "performance 2.5486796775\n",
      "[ 0.39051834  0.19402108  0.11644183  0.12909081  0.16992793]\n",
      "[-0.94028035 -1.63978845 -2.15036344 -2.04723914 -1.77238086]\n",
      "\n",
      "task 4\n",
      "progress -0.0118315454116\n",
      "performance [0.99848017311596793, 0.99157140296037971, 0.5467965560088206, 0.0, 0.0]\n",
      "performance 2.53684813209\n",
      "[ 0.3914561   0.19448699  0.11672144  0.1294008   0.16793467]\n",
      "[-0.93788191 -1.63739001 -2.147965   -2.0448407  -1.78418027]\n",
      "\n",
      "task 0\n",
      "progress 0.02233354245\n",
      "performance [0.99842664909837431, 0.98561300865150081, 0.57514201678527921, 0.0, 0.0]\n",
      "performance 2.55918167454\n",
      "[ 0.39785865  0.19244077  0.11549341  0.12803936  0.16616781]\n",
      "[-0.92165849 -1.64796685 -2.15854183 -2.05541754 -1.79475711]\n",
      "\n",
      "task 0\n",
      "progress 0.036352029275\n",
      "performance [0.99770819211841355, 0.98852469372850871, 0.60930081796320024, 0.0, 0.0]\n",
      "performance 2.59553370381\n",
      "[ 0.40835425  0.18908644  0.1134803   0.12580758  0.16327143]\n",
      "[-0.89562022 -1.66555101 -2.176126   -2.0730017  -1.81234127]\n",
      "\n",
      "task 1\n",
      "progress 0.0485773232685\n",
      "performance [0.99926883655234922, 0.99885765673587024, 0.64598453379045051, 0.0, 0.0]\n",
      "performance 2.64411102708\n",
      "[ 0.40377146  0.198187    0.11220676  0.12439569  0.1614391 ]\n",
      "[-0.90690626 -1.61854427 -2.18741204 -2.08428774 -1.82362731]\n",
      "\n",
      "task 1\n",
      "progress -0.0216829639124\n",
      "performance [0.99917707765199737, 0.99836393737970996, 0.62488704813460105, 0.0, 0.0]\n",
      "performance 2.62242806317\n",
      "[ 0.40583726  0.1940847   0.11278084  0.12503213  0.16226506]\n",
      "[-0.90180304 -1.6394606  -2.18230881 -2.07918452 -1.81852409]\n",
      "\n",
      "task 1\n",
      "progress 0.0284560505087\n",
      "performance [0.99873261343576547, 0.99462600217494879, 0.65752549806433558, 0.0, 0.0]\n",
      "performance 2.65088411368\n",
      "[ 0.40311946  0.19948173  0.11202557  0.12419482  0.16117841]\n",
      "[-0.90852233 -1.61203263 -2.1890281  -2.08590381 -1.82524338]\n",
      "\n",
      "task 1\n",
      "progress 0.071916010215\n",
      "performance [0.99901820261347341, 0.99879728250862387, 0.72498463876793395, 0.0, 0.0]\n",
      "performance 2.72280012389\n",
      "[ 0.39599948  0.21362066  0.11004695  0.12200127  0.15833164]\n",
      "[-0.92634238 -1.54355347 -2.20684816 -2.10372386 -1.84306343]\n",
      "\n",
      "task 3\n",
      "progress -0.249411862005\n",
      "performance [0.99482518876832515, 0.94960109325499176, 0.52896197986202653, 0.0, 0.0]\n",
      "performance 2.47338826189\n",
      "[ 0.40890311  0.22058148  0.11363283  0.0933917   0.16349088]\n",
      "[-0.89427704 -1.51148813 -2.17478282 -2.37095276 -1.81099809]\n",
      "\n",
      "task 0\n",
      "progress 0.0294463913006\n",
      "performance [0.99850235943026167, 0.93453034250808464, 0.56980195124757893, 0.0, 0.0]\n",
      "performance 2.50283465319\n",
      "[ 0.41747048  0.21738437  0.11198583  0.09203808  0.16112124]\n",
      "[-0.87354145 -1.52608821 -2.1893829  -2.38555284 -1.82559817]\n",
      "\n",
      "task 0\n",
      "progress 0.0409138552074\n",
      "performance [0.999370007879681, 0.95525927985443748, 0.58911922065921019, 0.0, 0.0]\n",
      "performance 2.54374850839\n",
      "[ 0.42945639  0.21291155  0.10968165  0.09014434  0.15780607]\n",
      "[-0.84523508 -1.54687847 -2.21017316 -2.40634309 -1.84638843]\n",
      "\n",
      "task 1\n",
      "progress 0.099184831958\n",
      "performance [0.99700117629758178, 0.99785958715693612, 0.64807257689682185, 0.0, 0.0]\n",
      "performance 2.64293334035\n",
      "[ 0.41820221  0.23353769  0.10680738  0.08778205  0.15367066]\n",
      "[-0.8717902  -1.45441178 -2.23672827 -2.43289821 -1.87294354]\n",
      "\n",
      "task 0\n",
      "progress -0.0896419272477\n",
      "performance [0.99929376799707603, 0.9991143586421154, 0.55488328646441587, 0.0, 0.0]\n",
      "performance 2.5532914131\n",
      "[ 0.39228243  0.24394208  0.11156577  0.09169285  0.16051687]\n",
      "[-0.9357732  -1.41082448 -2.19314096 -2.3893109  -1.82935624]\n",
      "\n",
      "task 2\n",
      "progress -0.0548138721805\n",
      "performance [0.98903838494575325, 0.97768724561290299, 0.53175191036443437, 0.0, 0.0]\n",
      "performance 2.49847754092\n",
      "[ 0.39508846  0.24568701  0.10521073  0.09234873  0.16166506]\n",
      "[-0.92864558 -1.40369686 -2.25178999 -2.38218328 -1.82222862]\n",
      "\n",
      "task 3\n",
      "progress 0.0354434934666\n",
      "performance [0.98701079741818021, 0.98131611010650777, 0.56559412686504529, 0.0, 0.0]\n",
      "performance 2.53392103439\n",
      "[ 0.3935095   0.24470513  0.10479026  0.09597615  0.16101897]\n",
      "[-0.93265007 -1.40770135 -2.25579448 -2.34365558 -1.82623311]\n",
      "\n",
      "task 4\n",
      "progress 0.0148674350772\n",
      "performance [0.99204167097676266, 0.98556080373372745, 0.57118599475643728, 0.0, 0.0]\n",
      "performance 2.54878846947\n",
      "[ 0.3923722   0.2439979   0.1044874   0.09569876  0.16344373]\n",
      "[-0.93554439 -1.41059566 -2.25868879 -2.34654989 -1.8112865 ]\n",
      "\n",
      "task 1\n",
      "progress 0.0405364870128\n",
      "performance [0.99508926121042329, 0.99855471787250694, 0.59568097739678416, 0.0, 0.0]\n",
      "performance 2.58932495648\n",
      "[ 0.38765736  0.25308221  0.10323185  0.09454882  0.16147975]\n",
      "[-0.94763342 -1.3740409  -2.27077782 -2.35863892 -1.82337553]\n",
      "\n",
      "task 1\n",
      "progress -0.0656891433659\n",
      "performance [0.99482013551278259, 0.99804345315514087, 0.53077222444587813, 0.0, 0.0]\n",
      "performance 2.52363581311\n",
      "[ 0.39523951  0.23847333  0.10525095  0.09639809  0.16463812]\n",
      "[-0.92826334 -1.4334978  -2.25140775 -2.33926885 -1.80400546]\n",
      "\n",
      "task 2\n",
      "progress 0.03164825327\n",
      "performance [0.99898627002399598, 0.99686697641495048, 0.55943081994486155, 0.0, 0.0]\n",
      "performance 2.55528406638\n",
      "[ 0.3936358   0.23750571  0.10888144  0.09600695  0.16397009]\n",
      "[-0.93232915 -1.43756361 -2.21749566 -2.34333466 -1.80807126]\n",
      "\n",
      "task 1\n",
      "progress 0.0130881486277\n",
      "performance [0.99953307189538798, 0.99905186013793756, 0.56978728297821835, 0.0, 0.0]\n",
      "performance 2.56837221501\n",
      "[ 0.39216141  0.24036169  0.10847362  0.09564735  0.16335592]\n",
      "[-0.93608176 -1.42561044 -2.22124826 -2.34708727 -1.81182387]\n",
      "\n"
     ]
    }
   ],
   "source": [
    "for it in range(30):\n",
    "    learner.run(num_epochs=1, budget=100)\n",
    "    print 'task', learner.last_task\n",
    "    print 'progress', learner.last_progress\n",
    "    print 'performance', learner.last_performances\n",
    "    print 'performance', learner.last_performance\n",
    "    print np.exp(normalize_log(learner.log_weights))\n",
    "    print learner.log_weights\n",
    "    print "
   ]
  },
  {
   "cell_type": "markdown",
   "metadata": {},
   "source": [
    "**Note** \n",
    "* Try use eps-greedy policy during test time, this turns out to be very unstable. performance could easily oscillate between 0 and 1.\n",
    "* Use weight decay instead of reseting the weights every MAB batch."
   ]
  },
  {
   "cell_type": "markdown",
   "metadata": {},
   "source": [
    "# Log-Linear Model"
   ]
  },
  {
   "cell_type": "code",
   "execution_count": 292,
   "metadata": {
    "collapsed": false
   },
   "outputs": [],
   "source": [
    "class SingleLearnerLogLinear(object):\n",
    "    def __init__(self, dqn, tasks, mab_gamma, mab_scale, mab_batch_size, **kwargs):\n",
    "        self.dqn = dqn\n",
    "        self.tasks = tasks\n",
    "        self.log_weights = [0. for task in tasks]\n",
    "        self.deepQlearn = DeepQlearn(tasks[0], dqn, **kwargs)\n",
    "        self.last_task = 0\n",
    "        self.last_performance = 0.\n",
    "        self.last_performances = {}\n",
    "        self.performance_history = {}\n",
    "        self.last_progress = 0.\n",
    "        self.feat_last_progress = {}\n",
    "        for ti, task in enumerate(self.tasks):\n",
    "            self.last_performance += reward_tabular_normalized_fix_start(self.dqn, task, tol=1e-4)\n",
    "            self.performance_history[ti] = []\n",
    "        print 'initial performance', self.last_performance\n",
    "\n",
    "    def run(self, num_epochs=1, budget=100):\n",
    "        num_tasks = len(self.tasks)\n",
    "        for epoch in range(num_epochs):\n",
    "            # choose task based on weights.\n",
    "            taski = -1\n",
    "            p = np.exp(prob.normalize_log(self.log_weights))\n",
    "            taski = npr.choice(range(num_tasks), 1, replace=True, p=p)[0]\n",
    "                \n",
    "            task = self.tasks[taski]\n",
    "            self.last_task = taski\n",
    "\n",
    "            # (TODO) this breaks away the abstraction.\n",
    "            self.deepQlearn.task = task\n",
    "            self.dqn.task = task\n",
    "\n",
    "            # run training.\n",
    "            self.deepQlearn.run(budget = budget)\n",
    "\n",
    "            # update weights.\n",
    "            performance = 0.\n",
    "            self.last_performances = {}\n",
    "            for ti, task in enumerate(self.tasks):\n",
    "                self.last_performances[ti] = reward_tabular_normalized_fix_start(self.dqn, task, tol=1e-4)\n",
    "                self.performance_history[ti].append(self.last_performances[ti])\n",
    "                performance += self.last_performances[ti]\n",
    "            progress = performance - self.last_performance\n",
    "            self.feat_last_progress[taski] = progress\n",
    "            self.last_performance = performance\n",
    "            self.last_progress = progress\n",
    "            \n",
    "            for ti in range(num_tasks):\n",
    "                self.log_weights[ti] = 0.\n",
    "                self.log_weights[ti] += 30 * self.feat_last_progress[ti] if ti in self.feat_last_progress else 0.\n",
    "                self.log_weights[ti] -= 100 if ti in self.last_performances and self.last_performances[ti] > 0.9 else 0.\n",
    "\n"
   ]
  },
  {
   "cell_type": "code",
   "execution_count": 293,
   "metadata": {
    "collapsed": false
   },
   "outputs": [
    {
     "name": "stdout",
     "output_type": "stream",
     "text": [
      "initial performance 0.124182675601\n"
     ]
    }
   ],
   "source": [
    "dqn = DQN(tasks[0], two_layer_arch)\n",
    "learner = SingleLearnerLogLinear(dqn, tasks, mab_gamma = 0.2, mab_scale = 30., mab_batch_size = 10000)"
   ]
  },
  {
   "cell_type": "code",
   "execution_count": 294,
   "metadata": {
    "collapsed": false,
    "scrolled": true
   },
   "outputs": [
    {
     "name": "stdout",
     "output_type": "stream",
     "text": [
      "task 3\n",
      "progress 0.0\n",
      "performance {0: 0.058823526911092931, 1: 0.058823529263916256, 2: 0.006535619425906098, 3: 0.0, 4: 0.0}\n",
      "performance 0.124182675601\n",
      "[ 0.2  0.2  0.2  0.2  0.2]\n",
      "[0.0, 0.0, 0.0, 0.0, 0.0]\n",
      "\n",
      "task 0\n",
      "progress 1.04584345536\n",
      "performance {0: 0.99999995999733382, 1: 0.058870628235133254, 2: 0.11115554272825844, 3: 0.0, 4: 0.0}\n",
      "performance 1.17002613096\n",
      "[  3.93199599e-31   2.50000000e-01   2.50000000e-01   2.50000000e-01\n",
      "   2.50000000e-01]\n",
      "[-68.624696339205684, 0.0, 0.0, 0.0, 0.0]\n",
      "\n",
      "task 1\n",
      "progress 1.82997365368\n",
      "performance {0: 0.99999995999533542, 1: 0.99999995999533386, 2: 0.99999986464746937, 3: 0.0, 4: 0.0}\n",
      "performance 2.99999978464\n",
      "[  7.86399198e-31   1.29403377e-20   1.86003799e-44   5.00000000e-01\n",
      "   5.00000000e-01]\n",
      "[-68.624696339205684, -45.100790389677606, -100.0, 0.0, 0.0]\n",
      "\n",
      "task 4\n",
      "progress -0.888888693028\n",
      "performance {0: 0.99999991999333881, 1: 0.99999995999534053, 2: 0.11111121162169252, 3: 0.0, 4: 0.0}\n",
      "performance 2.11111109161\n",
      "[  7.86399198e-31   1.29403377e-20   5.00000000e-01   5.00000000e-01\n",
      "   1.31155459e-12]\n",
      "[-68.624696339205684, -45.100790389677606, 0.0, 0.0, -26.666660790833006]\n",
      "\n",
      "task 2\n",
      "progress 0.888888737474\n",
      "performance {0: 0.99999995999533398, 1: 0.99999999999733746, 2: 0.99999986909169059, 3: 0.0, 4: 0.0}\n",
      "performance 2.99999982908\n",
      "[  1.57279840e-30   2.58806753e-20   1.41819523e-32   1.00000000e+00\n",
      "   2.62310918e-12]\n",
      "[-68.624696339205684, -45.100790389677606, -73.333337875780302, 0.0, -26.666660790833006]\n",
      "\n",
      "task 3\n",
      "progress 0.0\n",
      "performance {0: 0.99999995999533398, 1: 0.99999999999733746, 2: 0.99999986909169059, 3: 0.0, 4: 0.0}\n",
      "performance 2.99999982908\n",
      "[  1.57279840e-30   2.58806753e-20   1.41819523e-32   1.00000000e+00\n",
      "   2.62310918e-12]\n",
      "[-68.624696339205684, -45.100790389677606, -73.333337875780302, 0.0, -26.666660790833006]\n",
      "\n",
      "task 3\n",
      "progress 7.11075478499e-08\n",
      "performance {0: 0.99999995999533897, 1: 0.99999999999734068, 2: 0.99999994019923011, 3: 0.0, 4: 0.0}\n",
      "performance 2.99999990019\n",
      "[  1.57279504e-30   2.58806201e-20   1.41819221e-32   1.00000000e+00\n",
      "   2.62310359e-12]\n",
      "[-68.624696339205684, -45.100790389677606, -73.333337875780302, 2.1332264354967378e-06, -26.666660790833006]\n",
      "\n",
      "task 3\n",
      "progress -3.55537728147e-08\n",
      "performance {0: 0.9999999599953372, 1: 0.99999999999733902, 2: 0.9999999046454604, 3: 0.0, 4: 0.0}\n",
      "performance 2.99999986464\n",
      "[  1.57280007e-30   2.58807029e-20   1.41819674e-32   1.00000000e+00\n",
      "   2.62311198e-12]\n",
      "[-68.624696339205684, -45.100790389677606, -73.333337875780302, -1.0666131844416782e-06, -26.666660790833006]\n",
      "\n",
      "task 3\n",
      "progress 0.0\n",
      "performance {0: 0.9999999599953372, 1: 0.99999999999733902, 2: 0.9999999046454604, 3: 0.0, 4: 0.0}\n",
      "performance 2.99999986464\n",
      "[  1.57279840e-30   2.58806753e-20   1.41819523e-32   1.00000000e+00\n",
      "   2.62310918e-12]\n",
      "[-68.624696339205684, -45.100790389677606, -73.333337875780302, 0.0, -26.666660790833006]\n",
      "\n",
      "task 3\n",
      "progress 0.0\n",
      "performance {0: 0.9999999599953372, 1: 0.99999999999733902, 2: 0.9999999046454604, 3: 0.0, 4: 0.0}\n",
      "performance 2.99999986464\n",
      "[  1.57279840e-30   2.58806753e-20   1.41819523e-32   1.00000000e+00\n",
      "   2.62310918e-12]\n",
      "[-68.624696339205684, -45.100790389677606, -73.333337875780302, 0.0, -26.666660790833006]\n",
      "\n",
      "task 3\n",
      "progress 0.0\n",
      "performance {0: 0.9999999599953372, 1: 0.99999999999733902, 2: 0.9999999046454604, 3: 0.0, 4: 0.0}\n",
      "performance 2.99999986464\n",
      "[  1.57279840e-30   2.58806753e-20   1.41819523e-32   1.00000000e+00\n",
      "   2.62310918e-12]\n",
      "[-68.624696339205684, -45.100790389677606, -73.333337875780302, 0.0, -26.666660790833006]\n",
      "\n",
      "task 3\n",
      "progress 0.0\n",
      "performance {0: 0.9999999599953372, 1: 0.99999999999733902, 2: 0.9999999046454604, 3: 0.0, 4: 0.0}\n",
      "performance 2.99999986464\n",
      "[  1.57279840e-30   2.58806753e-20   1.41819523e-32   1.00000000e+00\n",
      "   2.62310918e-12]\n",
      "[-68.624696339205684, -45.100790389677606, -73.333337875780302, 0.0, -26.666660790833006]\n",
      "\n",
      "task 3\n",
      "progress 0.0\n",
      "performance {0: 0.9999999599953372, 1: 0.99999999999733902, 2: 0.9999999046454604, 3: 0.0, 4: 0.0}\n",
      "performance 2.99999986464\n",
      "[  1.57279840e-30   2.58806753e-20   1.41819523e-32   1.00000000e+00\n",
      "   2.62310918e-12]\n",
      "[-68.624696339205684, -45.100790389677606, -73.333337875780302, 0.0, -26.666660790833006]\n",
      "\n",
      "task 3\n",
      "progress 0.0\n",
      "performance {0: 0.9999999599953372, 1: 0.99999999999733902, 2: 0.9999999046454604, 3: 0.0, 4: 0.0}\n",
      "performance 2.99999986464\n",
      "[  1.57279840e-30   2.58806753e-20   1.41819523e-32   1.00000000e+00\n",
      "   2.62310918e-12]\n",
      "[-68.624696339205684, -45.100790389677606, -73.333337875780302, 0.0, -26.666660790833006]\n",
      "\n",
      "task 3\n",
      "progress 0.0\n",
      "performance {0: 0.9999999599953372, 1: 0.99999999999733902, 2: 0.9999999046454604, 3: 0.0, 4: 0.0}\n",
      "performance 2.99999986464\n",
      "[  1.57279840e-30   2.58806753e-20   1.41819523e-32   1.00000000e+00\n",
      "   2.62310918e-12]\n",
      "[-68.624696339205684, -45.100790389677606, -73.333337875780302, 0.0, -26.666660790833006]\n",
      "\n",
      "task 3\n",
      "progress 0.0\n",
      "performance {0: 0.9999999599953372, 1: 0.99999999999733902, 2: 0.9999999046454604, 3: 0.0, 4: 0.0}\n",
      "performance 2.99999986464\n",
      "[  1.57279840e-30   2.58806753e-20   1.41819523e-32   1.00000000e+00\n",
      "   2.62310918e-12]\n",
      "[-68.624696339205684, -45.100790389677606, -73.333337875780302, 0.0, -26.666660790833006]\n",
      "\n",
      "task 3\n",
      "progress 3.55537728147e-08\n",
      "performance {0: 0.99999995999533897, 1: 0.99999999999734068, 2: 0.99999994019923011, 3: 0.0, 4: 0.0}\n",
      "performance 2.99999990019\n",
      "[  1.57279672e-30   2.58806477e-20   1.41819372e-32   1.00000000e+00\n",
      "   2.62310638e-12]\n",
      "[-68.624696339205684, -45.100790389677606, -73.333337875780302, 1.0666131844416782e-06, -26.666660790833006]\n",
      "\n",
      "task 3\n",
      "progress 0.0\n",
      "performance {0: 0.99999995999533897, 1: 0.99999999999734068, 2: 0.99999994019923011, 3: 0.0, 4: 0.0}\n",
      "performance 2.99999990019\n",
      "[  1.57279840e-30   2.58806753e-20   1.41819523e-32   1.00000000e+00\n",
      "   2.62310918e-12]\n",
      "[-68.624696339205684, -45.100790389677606, -73.333337875780302, 0.0, -26.666660790833006]\n",
      "\n",
      "task 3\n",
      "progress 0.0\n",
      "performance {0: 0.99999995999533897, 1: 0.99999999999734068, 2: 0.99999994019923011, 3: 0.0, 4: 0.0}\n",
      "performance 2.99999990019\n",
      "[  1.57279840e-30   2.58806753e-20   1.41819523e-32   1.00000000e+00\n",
      "   2.62310918e-12]\n",
      "[-68.624696339205684, -45.100790389677606, -73.333337875780302, 0.0, -26.666660790833006]\n",
      "\n",
      "task 3\n",
      "progress 0.0\n",
      "performance {0: 0.99999995999533897, 1: 0.99999999999734068, 2: 0.99999994019923011, 3: 0.0, 4: 0.0}\n",
      "performance 2.99999990019\n",
      "[  1.57279840e-30   2.58806753e-20   1.41819523e-32   1.00000000e+00\n",
      "   2.62310918e-12]\n",
      "[-68.624696339205684, -45.100790389677606, -73.333337875780302, 0.0, -26.666660790833006]\n",
      "\n",
      "task 3\n",
      "progress 0.0\n",
      "performance {0: 0.99999995999533897, 1: 0.99999999999734068, 2: 0.99999994019923011, 3: 0.0, 4: 0.0}\n",
      "performance 2.99999990019\n",
      "[  1.57279840e-30   2.58806753e-20   1.41819523e-32   1.00000000e+00\n",
      "   2.62310918e-12]\n",
      "[-68.624696339205684, -45.100790389677606, -73.333337875780302, 0.0, -26.666660790833006]\n",
      "\n",
      "task 3\n",
      "progress 0.0\n",
      "performance {0: 0.99999995999533897, 1: 0.99999999999734068, 2: 0.99999994019923011, 3: 0.0, 4: 0.0}\n",
      "performance 2.99999990019\n",
      "[  1.57279840e-30   2.58806753e-20   1.41819523e-32   1.00000000e+00\n",
      "   2.62310918e-12]\n",
      "[-68.624696339205684, -45.100790389677606, -73.333337875780302, 0.0, -26.666660790833006]\n",
      "\n",
      "task 3\n",
      "progress 0.0\n",
      "performance {0: 0.99999995999533897, 1: 0.99999999999734068, 2: 0.99999994019923011, 3: 0.0, 4: 0.0}\n",
      "performance 2.99999990019\n",
      "[  1.57279840e-30   2.58806753e-20   1.41819523e-32   1.00000000e+00\n",
      "   2.62310918e-12]\n",
      "[-68.624696339205684, -45.100790389677606, -73.333337875780302, 0.0, -26.666660790833006]\n",
      "\n",
      "task 3\n",
      "progress 0.0\n",
      "performance {0: 0.99999995999533897, 1: 0.99999999999734068, 2: 0.99999994019923011, 3: 0.0, 4: 0.0}\n",
      "performance 2.99999990019\n",
      "[  1.57279840e-30   2.58806753e-20   1.41819523e-32   1.00000000e+00\n",
      "   2.62310918e-12]\n",
      "[-68.624696339205684, -45.100790389677606, -73.333337875780302, 0.0, -26.666660790833006]\n",
      "\n",
      "task 3\n",
      "progress 0.0\n",
      "performance {0: 0.99999995999533897, 1: 0.99999999999734068, 2: 0.99999994019923011, 3: 0.0, 4: 0.0}\n",
      "performance 2.99999990019\n",
      "[  1.57279840e-30   2.58806753e-20   1.41819523e-32   1.00000000e+00\n",
      "   2.62310918e-12]\n",
      "[-68.624696339205684, -45.100790389677606, -73.333337875780302, 0.0, -26.666660790833006]\n",
      "\n",
      "task 3\n",
      "progress 0.0\n",
      "performance {0: 0.99999995999533897, 1: 0.99999999999734068, 2: 0.99999994019923011, 3: 0.0, 4: 0.0}\n",
      "performance 2.99999990019\n",
      "[  1.57279840e-30   2.58806753e-20   1.41819523e-32   1.00000000e+00\n",
      "   2.62310918e-12]\n",
      "[-68.624696339205684, -45.100790389677606, -73.333337875780302, 0.0, -26.666660790833006]\n",
      "\n",
      "task 3\n",
      "progress 0.0\n",
      "performance {0: 0.99999995999533897, 1: 0.99999999999734068, 2: 0.99999994019923011, 3: 0.0, 4: 0.0}\n",
      "performance 2.99999990019\n",
      "[  1.57279840e-30   2.58806753e-20   1.41819523e-32   1.00000000e+00\n",
      "   2.62310918e-12]\n",
      "[-68.624696339205684, -45.100790389677606, -73.333337875780302, 0.0, -26.666660790833006]\n",
      "\n",
      "task 3\n",
      "progress 0.0\n",
      "performance {0: 0.99999995999533897, 1: 0.99999999999734068, 2: 0.99999994019923011, 3: 0.0, 4: 0.0}\n",
      "performance 2.99999990019\n",
      "[  1.57279840e-30   2.58806753e-20   1.41819523e-32   1.00000000e+00\n",
      "   2.62310918e-12]\n",
      "[-68.624696339205684, -45.100790389677606, -73.333337875780302, 0.0, -26.666660790833006]\n",
      "\n",
      "task 3\n",
      "progress 0.0\n",
      "performance {0: 0.99999995999533897, 1: 0.99999999999734068, 2: 0.99999994019923011, 3: 0.0, 4: 0.0}\n",
      "performance 2.99999990019\n",
      "[  1.57279840e-30   2.58806753e-20   1.41819523e-32   1.00000000e+00\n",
      "   2.62310918e-12]\n",
      "[-68.624696339205684, -45.100790389677606, -73.333337875780302, 0.0, -26.666660790833006]\n",
      "\n",
      "task 3\n",
      "progress 0.0\n",
      "performance {0: 0.99999995999533897, 1: 0.99999999999734068, 2: 0.99999994019923011, 3: 0.0, 4: 0.0}\n",
      "performance 2.99999990019\n",
      "[  1.57279840e-30   2.58806753e-20   1.41819523e-32   1.00000000e+00\n",
      "   2.62310918e-12]\n",
      "[-68.624696339205684, -45.100790389677606, -73.333337875780302, 0.0, -26.666660790833006]\n",
      "\n"
     ]
    }
   ],
   "source": [
    "for it in range(30):\n",
    "    learner.run(num_epochs=1, budget=100)\n",
    "    print 'task', learner.last_task\n",
    "    print 'progress', learner.last_progress\n",
    "    print 'performance', learner.last_performances\n",
    "    print 'performance', learner.last_performance\n",
    "    print np.exp(normalize_log(learner.log_weights))\n",
    "    print learner.log_weights\n",
    "    print "
   ]
  },
  {
   "cell_type": "code",
   "execution_count": 297,
   "metadata": {
    "collapsed": false
   },
   "outputs": [
    {
     "data": {
      "image/png": "[encoded data removed]",
      "text/plain": [
       "<matplotlib.figure.Figure at 0x108628090>"
      ]
     },
     "metadata": {},
     "output_type": "display_data"
    }
   ],
   "source": [
    "figure()\n",
    "for ti in range(len(tasks)):\n",
    "    plot(learner.performance_history[ti])"
   ]
  },
  {
   "cell_type": "markdown",
   "metadata": {},
   "source": [
    "In this tiny example, we have shown that for easier tasks (shorter horizon and closer distance to goal), the model is able to predict and identify those tasks. This allows the model to create a curriculum automatically from this pool of tasks."
   ]
  },
  {
   "cell_type": "code",
   "execution_count": null,
   "metadata": {
    "collapsed": true
   },
   "outputs": [],
   "source": []
  }
 ],
 "metadata": {
  "kernelspec": {
   "display_name": "Python 2",
   "language": "python",
   "name": "python2"
  },
  "language_info": {
   "codemirror_mode": {
    "name": "ipython",
    "version": 2
   },
   "file_extension": ".py",
   "mimetype": "text/x-python",
   "name": "python",
   "nbconvert_exporter": "python",
   "pygments_lexer": "ipython2",
   "version": "2.7.10"
  }
 },
 "nbformat": 4,
 "nbformat_minor": 0
}
