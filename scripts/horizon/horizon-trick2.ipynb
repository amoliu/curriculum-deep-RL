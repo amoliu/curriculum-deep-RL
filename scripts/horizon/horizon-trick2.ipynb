{
 "cells": [
  {
   "cell_type": "code",
   "execution_count": 33,
   "metadata": {
    "collapsed": false
   },
   "outputs": [],
   "source": [
    "%reload_ext autoreload\n",
    "%autoreload 2\n",
    "%matplotlib inline\n",
    "import sys\n",
    "sys.path.append('../')\n",
    "import scriptinit\n",
    "import numpy as np\n",
    "import numpy.random as npr\n",
    "import numpy.linalg as npla\n",
    "from matplotlib.pyplot import *\n",
    "from pyrl.algorithms.uvfa import *\n",
    "from pyrl.algorithms.valueiter import *\n",
    "from pyrl.tasks.gridworld import *\n",
    "from pyrl.algorithms.nn import *\n",
    "from pyrl.agents.agent import *\n",
    "from pyrl.agents.multitask import *\n",
    "from pyrl.algorithms.multitask import *\n",
    "import pyrl.agents.arch as arch\n",
    "from pyrl.prob import *\n",
    "from pyrl.utils import *\n",
    "from pyrl.evaluate import *"
   ]
  },
  {
   "cell_type": "code",
   "execution_count": 13,
   "metadata": {
    "collapsed": true
   },
   "outputs": [],
   "source": [
    "def showV(v):\n",
    "    imshow(v.reshape(H, W), interpolation='none')\n",
    "    print v\n",
    "    \n",
    "def showExperience(agent):\n",
    "    task_types = set(agent.experience_task)\n",
    "    task_percent = dict()\n",
    "    for task in task_types:\n",
    "        task_percent[task] = sum([e == task for e in agent.experience_task])\n",
    "#     total = sum(task_percent.values())\n",
    "    total = 1.\n",
    "    return {key: val / float(total) for (key, val) in task_percent.items()}"
   ]
  },
  {
   "cell_type": "code",
   "execution_count": 14,
   "metadata": {
    "collapsed": false
   },
   "outputs": [
    {
     "name": "stdout",
     "output_type": "stream",
     "text": [
      "[[ 0.  0.  0.  0.  0.  0.  0.  0.  0.  0.  1.  0.  0.  0.  0.  0.  0.  0.\n",
      "   0.  0.  0.]\n",
      " [ 0.  0.  0.  0.  0.  0.  0.  0.  0.  0.  1.  0.  0.  0.  0.  0.  0.  0.\n",
      "   0.  0.  0.]\n",
      " [ 0.  0.  0.  0.  0.  0.  0.  0.  0.  0.  1.  0.  0.  0.  0.  0.  0.  0.\n",
      "   0.  0.  0.]\n",
      " [ 0.  0.  0.  0.  0.  0.  0.  0.  0.  0.  1.  0.  0.  0.  0.  0.  0.  0.\n",
      "   0.  0.  0.]\n",
      " [ 0.  0.  0.  0.  0.  0.  0.  0.  0.  0.  1.  0.  0.  0.  0.  0.  0.  0.\n",
      "   0.  0.  0.]\n",
      " [ 0.  0.  0.  0.  0.  0.  0.  0.  0.  0.  1.  0.  0.  0.  0.  0.  0.  0.\n",
      "   0.  0.  0.]\n",
      " [ 0.  0.  0.  0.  0.  0.  0.  0.  0.  0.  1.  0.  0.  0.  0.  0.  0.  0.\n",
      "   0.  0.  0.]\n",
      " [ 0.  0.  0.  0.  0.  0.  0.  0.  0.  0.  1.  0.  0.  0.  0.  0.  0.  0.\n",
      "   0.  0.  0.]\n",
      " [ 0.  0.  0.  0.  0.  0.  0.  0.  0.  0.  1.  0.  0.  0.  0.  0.  0.  0.\n",
      "   0.  0.  0.]\n",
      " [ 0.  0.  0.  0.  0.  0.  0.  0.  0.  0.  1.  0.  0.  0.  0.  0.  0.  0.\n",
      "   0.  0.  0.]\n",
      " [ 0.  0.  0.  0.  0.  0.  0.  0.  0.  0.  0.  0.  0.  0.  0.  0.  0.  0.\n",
      "   0.  0.  0.]\n",
      " [ 0.  0.  0.  0.  0.  0.  0.  0.  0.  0.  1.  0.  0.  0.  0.  0.  0.  0.\n",
      "   0.  0.  0.]\n",
      " [ 0.  0.  0.  0.  0.  0.  0.  0.  0.  0.  1.  0.  0.  0.  0.  0.  0.  0.\n",
      "   0.  0.  0.]\n",
      " [ 0.  0.  0.  0.  0.  0.  0.  0.  0.  0.  1.  0.  0.  0.  0.  0.  0.  0.\n",
      "   0.  0.  0.]\n",
      " [ 0.  0.  0.  0.  0.  0.  0.  0.  0.  0.  1.  0.  0.  0.  0.  0.  0.  0.\n",
      "   0.  0.  0.]\n",
      " [ 0.  0.  0.  0.  0.  0.  0.  0.  0.  0.  1.  0.  0.  0.  0.  0.  0.  0.\n",
      "   0.  0.  0.]\n",
      " [ 0.  0.  0.  0.  0.  0.  0.  0.  0.  0.  1.  0.  0.  0.  0.  0.  0.  0.\n",
      "   0.  0.  0.]\n",
      " [ 0.  0.  0.  0.  0.  0.  0.  0.  0.  0.  1.  0.  0.  0.  0.  0.  0.  0.\n",
      "   0.  0.  0.]\n",
      " [ 0.  0.  0.  0.  0.  0.  0.  0.  0.  0.  1.  0.  0.  0.  0.  0.  0.  0.\n",
      "   0.  0.  0.]\n",
      " [ 0.  0.  0.  0.  0.  0.  0.  0.  0.  0.  1.  0.  0.  0.  0.  0.  0.  0.\n",
      "   0.  0.  0.]\n",
      " [ 0.  0.  0.  0.  0.  0.  0.  0.  0.  0.  1.  0.  0.  0.  0.  0.  0.  0.\n",
      "   0.  0.  0.]]\n"
     ]
    },
    {
     "data": {
      "image/png": "[encoded data removed]",
      "text/plain": [
       "<matplotlib.figure.Figure at 0x10e162a10>"
      ]
     },
     "metadata": {},
     "output_type": "display_data"
    }
   ],
   "source": [
    "# world 1\n",
    "H = W = 21\n",
    "world = np.zeros((H, W))\n",
    "world[:10, 10] = 1\n",
    "world[11:, 10] = 1\n",
    "showV(world)"
   ]
  },
  {
   "cell_type": "code",
   "execution_count": 59,
   "metadata": {
    "collapsed": false
   },
   "outputs": [],
   "source": [
    "grid = Grid(world, action_stoch=0.2)\n",
    "goal = {(20,20): 1.}\n",
    "task = GridWorldUltimateFixedStart(0, grid_env=grid, goal=goal, demons={}, rewards=goal, wall_penalty=0., gamma=0.95)"
   ]
  },
  {
   "cell_type": "code",
   "execution_count": 60,
   "metadata": {
    "collapsed": true
   },
   "outputs": [],
   "source": [
    "dqn_arch = lambda states: arch.two_layer(states, H * W * 2, 32, 4)"
   ]
  },
  {
   "cell_type": "code",
   "execution_count": 61,
   "metadata": {
    "collapsed": false
   },
   "outputs": [
    {
     "name": "stdout",
     "output_type": "stream",
     "text": [
      "4.06151440722e-28\n",
      "4.06151440722e-28\n",
      "1.80443331277e-22\n",
      "1.08330820436e-13\n",
      "0.0\n",
      "1.74191143776e-19\n",
      "1.38737316278e-17\n",
      "5.2414141633e-17\n",
      "0.0\n",
      "0.0\n",
      "0.0\n",
      "0.0\n",
      "0.0\n",
      "0.0\n",
      "1.75758988849e-16\n",
      "1.61612462267e-11\n",
      "4.06748577237e-12\n",
      "1.53818297376e-14\n",
      "4.5482391134e-17\n",
      "2.23983255401e-18\n"
     ]
    },
    {
     "data": {
      "text/plain": [
       "[<matplotlib.lines.Line2D at 0x1103df290>]"
      ]
     },
     "execution_count": 61,
     "metadata": {},
     "output_type": "execute_result"
    },
    {
     "data": {
      "image/png": "[encoded data removed]",
      "text/plain": [
       "<matplotlib.figure.Figure at 0x1109f9fd0>"
      ]
     },
     "metadata": {},
     "output_type": "display_data"
    }
   ],
   "source": [
    "dqn = DQN(task, dqn_arch)\n",
    "learner = DeepQlearn(task, dqn, lr=1e-4, memory_size=250)\n",
    "performance = []\n",
    "for it in range(20):\n",
    "    learner.run(budget = 100)\n",
    "    performance.append(reward_tabular_normalized_fix_start(dqn, task, tol=1e-4))\n",
    "    print performance[-1]\n",
    "plot(performance)"
   ]
  },
  {
   "cell_type": "code",
   "execution_count": 62,
   "metadata": {
    "collapsed": true
   },
   "outputs": [],
   "source": [
    "grid = Grid(world, action_stoch=0.2)\n",
    "goal = {(10,11): 1.}\n",
    "task1 = GridWorldUltimateFixedStart(task.env.state_id[(10,9)], grid_env=grid, goal=goal, demons={}, rewards=goal, wall_penalty=0., gamma=0.95)"
   ]
  },
  {
   "cell_type": "code",
   "execution_count": 63,
   "metadata": {
    "collapsed": true
   },
   "outputs": [],
   "source": [
    "dqn_mt = DQN(task1, dqn_arch)\n",
    "learner_mt = DeepQlearn(task, dqn_mt, lr=1e-4, memory_size=250)"
   ]
  },
  {
   "cell_type": "code",
   "execution_count": 64,
   "metadata": {
    "collapsed": false,
    "scrolled": true
   },
   "outputs": [
    {
     "name": "stdout",
     "output_type": "stream",
     "text": [
      "0.451201401385\n",
      "0.451201401385\n",
      "0.46086293708\n",
      "0.458688615979\n",
      "0.460086677342\n",
      "0.459981181394\n",
      "0.458550012182\n",
      "0.457895098427\n",
      "0.457689075775\n",
      "0.459861899211\n",
      "0.460041410836\n",
      "0.460049827736\n",
      "0.460281168106\n",
      "0.459365730278\n",
      "0.459348850013\n",
      "0.459348850631\n",
      "0.459427458604\n",
      "0.460094901591\n",
      "0.441877085416\n",
      "0.440244946531\n"
     ]
    },
    {
     "data": {
      "text/plain": [
       "[<matplotlib.lines.Line2D at 0x110a160d0>]"
      ]
     },
     "execution_count": 64,
     "metadata": {},
     "output_type": "execute_result"
    },
    {
     "data": {
      "image/png": "[encoded data removed]",
      "text/plain": [
       "<matplotlib.figure.Figure at 0x110849a90>"
      ]
     },
     "metadata": {},
     "output_type": "display_data"
    }
   ],
   "source": [
    "performance = []\n",
    "for it in range(20):\n",
    "    learner_mt.run(budget = 100)\n",
    "    performance.append(reward_tabular_normalized_fix_start(dqn_mt, task1, tol=1e-4))\n",
    "    print performance[-1]\n",
    "plot(performance)"
   ]
  },
  {
   "cell_type": "markdown",
   "metadata": {},
   "source": [
    "## Difficult of task w.r.t. distance from the hole.\n",
    "\n",
    "In this example, we can observe that being farther away from the hole means harder to get right into it."
   ]
  },
  {
   "cell_type": "code",
   "execution_count": 65,
   "metadata": {
    "collapsed": false
   },
   "outputs": [
    {
     "name": "stdout",
     "output_type": "stream",
     "text": [
      "0.00515924512829\n",
      "0.000116722107275\n",
      "0.000377190115479\n",
      "7.15399724304e-06\n",
      "0.000385706891792\n",
      "0.000144781403246\n",
      "0.0887368822042\n",
      "0.0426899030363\n",
      "0.096648682541\n",
      "0.145817251345\n",
      "0.420403497976\n",
      "0.468199419459\n",
      "0.433450177595\n",
      "0.0743022799267\n",
      "0.0979801789308\n",
      "0.124563505524\n",
      "0.00828611192342\n",
      "0.0658386458309\n",
      "0.0332795232594\n",
      "0.216557513453\n"
     ]
    }
   ],
   "source": [
    "grid = Grid(world, action_stoch=0.2)\n",
    "goal = {(10,11): 1.}\n",
    "for i in range(20):\n",
    "    task_i = GridWorldUltimateFixedStart(task.env.state_id[(i,9)], grid_env=grid, goal=goal, demons={}, rewards=goal, wall_penalty=0., gamma=0.95)\n",
    "    dqn_mt.task = task_i\n",
    "    learner_mt.task = task_i\n",
    "    learner_mt.run(budget = 100)\n",
    "    performance = reward_tabular_normalized_fix_start(dqn_mt, task_i, tol=1e-4)\n",
    "    print performance\n"
   ]
  },
  {
   "cell_type": "markdown",
   "metadata": {},
   "source": [
    "Even with fully connected networks that do not have generalization ability, it is still useful to train with easier tasks first. \n",
    "\n",
    "Because this make bootstrapping easier."
   ]
  },
  {
   "cell_type": "code",
   "execution_count": 66,
   "metadata": {
    "collapsed": false
   },
   "outputs": [
    {
     "name": "stdout",
     "output_type": "stream",
     "text": [
      "i =  11 performance =  0.408028701272\n",
      "i =  11 performance =  0.408028701272\n",
      "i =  11 performance =  0.00816149555619\n",
      "i =  10 performance =  0.421364067567\n",
      "i =  10 performance =  0.438708170271\n",
      "i =  10 performance =  0.445267000171\n",
      "i =  9 performance =  0.432860995574\n",
      "i =  9 performance =  0.456296204791\n",
      "i =  9 performance =  0.459983514749\n",
      "i =  8 performance =  0.192763813629\n",
      "i =  8 performance =  0.249550906919\n",
      "i =  8 performance =  0.334881611101\n",
      "i =  7 performance =  0.365420341184\n",
      "i =  7 performance =  0.355968351452\n",
      "i =  7 performance =  0.356653092565\n",
      "i =  6 performance =  0.372846961158\n",
      "i =  6 performance =  0.328522864996\n",
      "i =  6 performance =  0.0284117095085\n",
      "i =  5 performance =  0.13672636454\n",
      "i =  5 performance =  0.115359795997\n",
      "i =  5 performance =  0.0127523853288\n",
      "i =  4 performance =  0.200281513505\n",
      "i =  4 performance =  0.663512377201\n",
      "i =  4 performance =  0.512006869746\n",
      "i =  3 performance =  0.18115883957\n",
      "i =  3 performance =  0.0727880735555\n",
      "i =  3 performance =  0.178305450063\n",
      "i =  2 performance =  0.631457460846\n",
      "i =  2 performance =  0.651393240246\n",
      "i =  2 performance =  0.644768960871\n",
      "i =  1 performance =  0.643997425431\n",
      "i =  1 performance =  0.697263395299\n",
      "i =  1 performance =  0.678912409805\n",
      "i =  0 performance =  0.72197011785\n",
      "i =  0 performance =  0.719188339974\n",
      "i =  0 performance =  0.725398342421\n"
     ]
    }
   ],
   "source": [
    "grid = Grid(world, action_stoch=0.2)\n",
    "goal = {(10,11): 1.}\n",
    "\n",
    "dqn_mt = DQN(task1, dqn_arch)\n",
    "learner_mt = DeepQlearn(task, dqn_mt, lr=1e-4, memory_size=250)\n",
    "for i in range(11, -1, -1):\n",
    "    for it in range(3):\n",
    "        task_i = GridWorldUltimateFixedStart(task.env.state_id[(i,9)], grid_env=grid, goal=goal, demons={}, rewards=goal, wall_penalty=0., gamma=0.95)\n",
    "        dqn_mt.task = task_i\n",
    "        learner_mt.task = task_i\n",
    "        learner_mt.run(budget = 100)\n",
    "        performance = reward_tabular_normalized_fix_start(dqn_mt, task_i, tol=1e-4)\n",
    "        print 'i = ', i, 'performance = ', performance"
   ]
  },
  {
   "cell_type": "code",
   "execution_count": 67,
   "metadata": {
    "collapsed": false
   },
   "outputs": [
    {
     "name": "stdout",
     "output_type": "stream",
     "text": [
      "i =  0 performance =  2.6650376348e-13\n",
      "i =  0 performance =  2.6650376348e-13\n",
      "i =  0 performance =  1.42093413768e-06\n",
      "i =  0 performance =  1.90614956147e-08\n",
      "i =  0 performance =  3.84980449453e-08\n",
      "i =  0 performance =  0.000154941602245\n",
      "i =  0 performance =  2.62516773108e-09\n",
      "i =  0 performance =  1.0886161817e-06\n",
      "i =  0 performance =  2.67390439566e-06\n",
      "i =  0 performance =  2.26034805004e-06\n",
      "i =  0 performance =  1.32074686152e-07\n",
      "i =  0 performance =  7.35309603572e-07\n",
      "i =  0 performance =  1.1167386403e-07\n",
      "i =  0 performance =  2.17192561522e-07\n",
      "i =  0 performance =  9.9716435138e-09\n",
      "i =  0 performance =  5.71919159248e-08\n",
      "i =  0 performance =  5.76633691196e-07\n",
      "i =  0 performance =  4.6879279297e-07\n",
      "i =  0 performance =  4.51668425687e-07\n",
      "i =  0 performance =  3.78106823775e-07\n",
      "i =  0 performance =  8.12056651843e-07\n",
      "i =  0 performance =  5.30083348746e-06\n",
      "i =  0 performance =  6.88846747114e-08\n",
      "i =  0 performance =  6.04198266881e-07\n",
      "i =  0 performance =  6.4792776421e-06\n",
      "i =  0 performance =  3.68437036975e-06\n",
      "i =  0 performance =  1.880841322e-06\n",
      "i =  0 performance =  3.03987600098e-06\n",
      "i =  0 performance =  2.65870604201e-06\n",
      "i =  0 performance =  3.76163857395e-06\n",
      "i =  0 performance =  3.61179529877e-06\n",
      "i =  0 performance =  3.57613885185e-05\n",
      "i =  0 performance =  0.000142754796905\n",
      "i =  0 performance =  7.94591937599e-05\n",
      "i =  0 performance =  0.000103858648416\n",
      "i =  0 performance =  0.00282440041782\n"
     ]
    }
   ],
   "source": [
    "grid = Grid(world, action_stoch=0.2)\n",
    "goal = {(10,11): 1.}\n",
    "\n",
    "dqn_mt = DQN(task1, dqn_arch)\n",
    "learner_mt = DeepQlearn(task, dqn_mt, lr=1e-4, memory_size=250)\n",
    "for ii in range(11, -1, -1):\n",
    "    i = 0\n",
    "    for it in range(3):\n",
    "        task_i = GridWorldUltimateFixedStart(task.env.state_id[(i,9)], grid_env=grid, goal=goal, demons={}, rewards=goal, wall_penalty=0., gamma=0.95)\n",
    "        dqn_mt.task = task_i\n",
    "        learner_mt.task = task_i\n",
    "        learner_mt.run(budget = 100)\n",
    "        performance = reward_tabular_normalized_fix_start(dqn_mt, task_i, tol=1e-4)\n",
    "        print 'i = ', i, 'performance = ', performance"
   ]
  },
  {
   "cell_type": "markdown",
   "metadata": {},
   "source": [
    "For $i = 0,1,...,10$, the difficulty decreases with $i$.\n",
    "\n",
    "The above comparison shows that training with easier tasks help reward boostraping. "
   ]
  },
  {
   "cell_type": "code",
   "execution_count": null,
   "metadata": {
    "collapsed": true
   },
   "outputs": [],
   "source": []
  }
 ],
 "metadata": {
  "kernelspec": {
   "display_name": "Python 2",
   "language": "python",
   "name": "python2"
  },
  "language_info": {
   "codemirror_mode": {
    "name": "ipython",
    "version": 2
   },
   "file_extension": ".py",
   "mimetype": "text/x-python",
   "name": "python",
   "nbconvert_exporter": "python",
   "pygments_lexer": "ipython2",
   "version": "2.7.10"
  }
 },
 "nbformat": 4,
 "nbformat_minor": 0
}
